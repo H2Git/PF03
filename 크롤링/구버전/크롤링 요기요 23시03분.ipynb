{
 "cells": [
  {
   "cell_type": "code",
   "execution_count": 1,
   "metadata": {},
   "outputs": [],
   "source": [
    "from selenium import webdriver as wb\n",
    "from selenium.webdriver.common.keys import Keys\n",
    "from bs4 import BeautifulSoup as bs\n",
    "import pandas as pd\n",
    "import time\n",
    "from tqdm.notebook import tqdm\n",
    "\n",
    "path = \"./chromedriver.exe\"\n",
    "url = \"https://www.yogiyo.co.kr/mobile/#/\"\n",
    "\n",
    "driver = wb.Chrome(path)\n",
    "driver.get(url)\n",
    "\n",
    "btn = driver.find_element_by_xpath(\"/html/body/div[2]/div[1]/div/div[2]/div/form/input\")\n",
    "btn.click()\n",
    "time.sleep(0.5)\n",
    "\n",
    "btn = driver.find_element_by_css_selector(\"#button_search_address > button.btn-search-location-cancel.btn-search-location.btn.btn-default\")\n",
    "btn.click()\n",
    "time.sleep(0.5)\n",
    "\n",
    "input_search = driver.find_element_by_xpath(\"/html/body/div[2]/div[1]/div/div[2]/div/form/input\")\n",
    "input_search.send_keys(\"서울특별시 강남구 논현동 280 이전노점28\")\n",
    "# 서울특별시 관악구 미성동 608-35\n",
    "time.sleep(0.5)\n",
    "\n",
    "btn = driver.find_element_by_xpath('//*[@id=\"button_search_address\"]/button[2]')\n",
    "btn.click()"
   ]
  },
  {
   "cell_type": "code",
   "execution_count": 2,
   "metadata": {},
   "outputs": [],
   "source": [
    "#전체보기 2\n",
    "#1인분 주문 3\n",
    "#프랜차이즈 4\n",
    "#치킨 5\n",
    "#피자/양식 6\n",
    "#중국집 7\n",
    "#한식 8\n",
    "#일식/돈까스 9\n",
    "#돈까스족발보쌈 10\n",
    "#야식분식카페 11\n",
    "#디저트편의점 12\n",
    "#마트 13\n",
    "\n",
    "btn = driver.find_element_by_css_selector(\"#category > ul > li:nth-child(8) > span\")\n",
    "btn.click()\n",
    "\n",
    "time.sleep(1)\n",
    "\n",
    "#리뷰 많은 순 보기\n",
    "btn = driver.find_element_by_css_selector(\"#content > div > div.row.restaurant-list-info > div.list-option > div > select > option:nth-child(3)\")\n",
    "btn.click()\n",
    "time.sleep(0.5)"
   ]
  },
  {
   "cell_type": "code",
   "execution_count": null,
   "metadata": {},
   "outputs": [
    {
     "data": {
      "application/vnd.jupyter.widget-view+json": {
       "model_id": "cad848bb6e9e40cf9fc8fb7d6cc6a75b",
       "version_major": 2,
       "version_minor": 0
      },
      "text/plain": [
       "HBox(children=(FloatProgress(value=0.0, max=2.0), HTML(value='')))"
      ]
     },
     "metadata": {},
     "output_type": "display_data"
    },
    {
     "name": "stdout",
     "output_type": "stream",
     "text": [
      "59번 식당부터, 61번 식당까지, 2개의 식당 중, 59번 식당 크롤링 중\n",
      "얼음냉면&간편컵밥 388개의 리뷰 크롤링\n"
     ]
    },
    {
     "data": {
      "application/vnd.jupyter.widget-view+json": {
       "model_id": "1a55e36a51bd471583f3677bbf71f324",
       "version_major": 2,
       "version_minor": 0
      },
      "text/plain": [
       "HBox(children=(FloatProgress(value=0.0, max=2.0), HTML(value='')))"
      ]
     },
     "metadata": {},
     "output_type": "display_data"
    },
    {
     "name": "stdout",
     "output_type": "stream",
     "text": [
      "더보기 30번 누르기 2번 반복 중 1번째 실행중\n"
     ]
    },
    {
     "data": {
      "application/vnd.jupyter.widget-view+json": {
       "model_id": "c2b2bfe424df4c9c9d06cc0f74b7ef28",
       "version_major": 2,
       "version_minor": 0
      },
      "text/plain": [
       "HBox(children=(FloatProgress(value=0.0, max=30.0), HTML(value='')))"
      ]
     },
     "metadata": {},
     "output_type": "display_data"
    },
    {
     "name": "stdout",
     "output_type": "stream",
     "text": [
      "\n",
      "1부터 300까지 크롤링중\n"
     ]
    },
    {
     "data": {
      "application/vnd.jupyter.widget-view+json": {
       "model_id": "0847682bcfe94822b7cf57549858e438",
       "version_major": 2,
       "version_minor": 0
      },
      "text/plain": [
       "HBox(children=(FloatProgress(value=0.0, max=300.0), HTML(value='')))"
      ]
     },
     "metadata": {},
     "output_type": "display_data"
    },
    {
     "name": "stdout",
     "output_type": "stream",
     "text": [
      "\n",
      "더보기 나머지10번 실행\n"
     ]
    },
    {
     "data": {
      "application/vnd.jupyter.widget-view+json": {
       "model_id": "1fba53da86f74e64804dab7cfda49f15",
       "version_major": 2,
       "version_minor": 0
      },
      "text/plain": [
       "HBox(children=(FloatProgress(value=0.0, max=9.0), HTML(value='')))"
      ]
     },
     "metadata": {},
     "output_type": "display_data"
    },
    {
     "name": "stdout",
     "output_type": "stream",
     "text": [
      "301부터 388까지 크롤링중\n"
     ]
    },
    {
     "data": {
      "application/vnd.jupyter.widget-view+json": {
       "model_id": "6437b1c930fd4186b2750bc9a7ad6a86",
       "version_major": 2,
       "version_minor": 0
      },
      "text/plain": [
       "HBox(children=(FloatProgress(value=0.0, max=88.0), HTML(value='')))"
      ]
     },
     "metadata": {},
     "output_type": "display_data"
    },
    {
     "name": "stdout",
     "output_type": "stream",
     "text": [
      "\n",
      "\n",
      "59번 식당부터, 61번 식당까지, 2개의 식당 중, 60번 식당 크롤링 중\n",
      "라곱창 337개의 리뷰 크롤링\n"
     ]
    },
    {
     "data": {
      "application/vnd.jupyter.widget-view+json": {
       "model_id": "bdd1fd3c80ff4cca96e2908601824688",
       "version_major": 2,
       "version_minor": 0
      },
      "text/plain": [
       "HBox(children=(FloatProgress(value=0.0, max=2.0), HTML(value='')))"
      ]
     },
     "metadata": {},
     "output_type": "display_data"
    },
    {
     "name": "stdout",
     "output_type": "stream",
     "text": [
      "더보기 30번 누르기 2번 반복 중 1번째 실행중\n"
     ]
    },
    {
     "data": {
      "application/vnd.jupyter.widget-view+json": {
       "model_id": "62969d971022407e828605c283ae7f32",
       "version_major": 2,
       "version_minor": 0
      },
      "text/plain": [
       "HBox(children=(FloatProgress(value=0.0, max=30.0), HTML(value='')))"
      ]
     },
     "metadata": {},
     "output_type": "display_data"
    }
   ],
   "source": [
    "first_restaurant_number = 59\n",
    "last_restaurant_number = 61\n",
    "total_restaurant = last_restaurant_number - first_restaurant_number\n",
    "\n",
    "for restaurant_num in tqdm(range(first_restaurant_number,last_restaurant_number,1)):\n",
    "     \n",
    "    print(str(first_restaurant_number) + \"번 식당부터, \"+ str(last_restaurant_number) + \"번 식당까지, \"\n",
    "          + str(total_restaurant) + \"개의 식당 중, \"\n",
    "          + str(restaurant_num) + \"번 식당 크롤링 중\")\n",
    "    \n",
    "    #식당 리스트\n",
    "    restaurant_list = driver.find_element_by_css_selector(f\"#content > div > div:nth-child(5) > div > div > div:nth-child({restaurant_num}) > div\")\n",
    "    restaurant_list.click()\n",
    "    \n",
    "    time.sleep(1)\n",
    "    \n",
    "    #식당 이름 가져오기\n",
    "    restaurant_name =  driver.find_element_by_css_selector(\"#content > div.restaurant-detail.row.ng-scope > div.col-sm-8 > div.restaurant-info > div.restaurant-title > span\").text.strip()\n",
    "\n",
    "    #식당 리뷰 페이지 넘어가기\n",
    "    restaurant_reviewpage = driver.find_element_by_css_selector(\"#content > div.restaurant-detail.row.ng-scope > div.col-sm-8 > ul > li:nth-child(2)\")\n",
    "    restaurant_reviewpage.click()\n",
    "    time.sleep(0.5)\n",
    "    \n",
    "    # 고객 댓글 수 체크\n",
    "    customer_num = driver.find_element_by_css_selector(\"#content > div.restaurant-detail.row.ng-scope > div.col-sm-8 > div:nth-child(6) > div.review-count > div > strong:nth-child(1)\").text.strip()\n",
    "    customer_num = int(customer_num)\n",
    "    \n",
    "    print(restaurant_name + \" \" + str(customer_num) +\"개의 리뷰 크롤링\")\n",
    "    \n",
    "    if(customer_num>300):\n",
    "        repeat_num_per_restaurant = int(int(customer_num)/300)+2\n",
    "    else:\n",
    "        repeat_num_per_restaurant = 2\n",
    "    \n",
    "    taste_scores = []\n",
    "    amount_scores = []\n",
    "    delivery_scores = []\n",
    "    order_dates = []\n",
    "    order_details = []\n",
    "    customer_reviews = []\n",
    "    owner_dates = []\n",
    "    owner_reviews = []\n",
    "\n",
    "    #  내부 리뷰 2~ 301번 리뷰까지 가져오기\n",
    "    start = 2\n",
    "    finish = 302\n",
    "    \n",
    "    # 외부(아래) 300개씩 eg) 620개 리뷰면, repeat_num_per_restaurant == 2번 + 20개 리뷰 \n",
    "    # 4가 되어야 3번 반복\n",
    "    for repeat_total in tqdm(range(1, int(repeat_num_per_restaurant), 1)):\n",
    "        \n",
    "         # 3번 중 '더보기' 30번을 2번 해야 한다.\n",
    "        if repeat_total != (int(repeat_num_per_restaurant)-1):\n",
    "            print(\"더보기 30번 누르기 \" + str(repeat_num_per_restaurant-1) + \"번 반복 중 \" + str(repeat_total) + \"번째 실행중\")\n",
    "            for more in tqdm(range(1,31,1)):\n",
    "                try:\n",
    "                    btn=driver.find_element_by_css_selector('span>i.arr-down')\n",
    "                    btn.click()\n",
    "                    time.sleep(2.5)\n",
    "                except:\n",
    "                    break\n",
    "        # 3번 중 '더보기'  나머지 2번을 해야  20개 리뷰가 보인다.\n",
    "        else:\n",
    "            rest = int((finish%300)/10)\n",
    "            print(\"더보기 나머지\" + str(rest) +  \"번 실행\" )\n",
    "            for more in tqdm(range(1,rest,1)):\n",
    "                try:\n",
    "                    btn=driver.find_element_by_css_selector('span>i.arr-down')\n",
    "                    btn.click()\n",
    "                    time.sleep(2.5)\n",
    "                except:\n",
    "                    break\n",
    "            \n",
    "            \n",
    "\n",
    "        print(str(start-1) + \"부터 \" + str(finish-2) + \"까지 크롤링중\")\n",
    "        \n",
    "        for j in tqdm(range(start, finish, 1)):\n",
    "\n",
    "            try:\n",
    "                taste_score = driver.find_elements_by_css_selector(f'#review > li:nth-child({j}) > div:nth-child(2) > div > span.category > span:nth-child(3)')[0].text.strip()\n",
    "            except:\n",
    "                taste_score = 0\n",
    "            try:\n",
    "                amount_score = driver.find_elements_by_css_selector(f'#review > li:nth-child({j}) > div:nth-child(2) > div > span.category > span:nth-child(6)')[0].text.strip()\n",
    "            except:\n",
    "                amount_score = 0\n",
    "            try:\n",
    "                delivery_score = driver.find_elements_by_css_selector(f'#review > li:nth-child({j}) > div:nth-child(2) > div > span.category > span:nth-child(9)')[0].text.strip()\n",
    "            except:\n",
    "                delivery_score = 0\n",
    "            try:\n",
    "                order_date = driver.find_elements_by_css_selector(f'#review > li:nth-child({j}) > div:nth-child(1) > span.review-time.ng-binding')[0].text.strip()\n",
    "            except:\n",
    "                order_date = 0\n",
    "            try:\n",
    "                order_detail = driver.find_elements_by_css_selector(f'#review > li:nth-child({j}) > div.order-items.default.ng-binding')[0].text.strip()\n",
    "            except:\n",
    "                order_detail = 0\n",
    "            try:\n",
    "                customer_review = driver.find_elements_by_css_selector(f'#review > li:nth-child({j}) > p')[0].text.strip()\n",
    "            except:\n",
    "                customer_review = 0\n",
    "            try:\n",
    "                owner_date = driver.find_elements_by_css_selector(f'#review > li:nth-child({j}) > div.review-answer.ng-scope > div > span.review-time.ng-binding')[0].text.strip()\n",
    "            except:\n",
    "                owner_date = 0    \n",
    "            try:\n",
    "                owner_review = driver.find_elements_by_css_selector(f'#review > li:nth-child({j}) > div.review-answer.ng-scope > p')[0].text.strip()\n",
    "            except:\n",
    "                owner_review = 0\n",
    "\n",
    "            taste_scores.append(taste_score)\n",
    "            amount_scores.append(amount_score)\n",
    "            delivery_scores.append(delivery_score)\n",
    "            order_dates.append(order_date)\n",
    "            order_details.append(order_detail)\n",
    "            customer_reviews.append(customer_review)\n",
    "            owner_dates.append(owner_date)\n",
    "            owner_reviews.append(owner_review)\n",
    "            time.sleep(0.2)\n",
    "\n",
    "        start = finish\n",
    "        \n",
    "        # 아.. 이렇게 하면 안되는데 방법이 없다.\n",
    "        \n",
    "        if repeat_total > (int(repeat_num_per_restaurant)-1):\n",
    "            finish = int(finish) + 300\n",
    "        else:\n",
    "            finish = int(finish) + int(int(customer_num)%300)\n",
    "\n",
    "        time.sleep(2)\n",
    "\n",
    "\n",
    "\n",
    "    time.sleep(2) \n",
    "    restaurant_info = {'taste':taste_scores,'amount':amount_scores,\n",
    "                    'delivery':delivery_scores,'order':order_details,\n",
    "                    'order_date':order_dates,'customer':customer_reviews,\n",
    "                    'owner_date':owner_dates,'owner':owner_reviews}\n",
    "    restaurant_info_toCSV = pd.DataFrame(restaurant_info)\n",
    "    restaurant_info_toCSV.to_csv(f\"{restaurant_name}.csv\", encoding=\"utf-16\")\n",
    "    \n",
    "    driver.back()\n",
    "    time.sleep(2)\n"
   ]
  },
  {
   "cell_type": "code",
   "execution_count": 14,
   "metadata": {},
   "outputs": [
    {
     "data": {
      "text/plain": [
       "6"
      ]
     },
     "execution_count": 14,
     "metadata": {},
     "output_type": "execute_result"
    }
   ],
   "source": [
    "int(int(customer_num)%300)"
   ]
  },
  {
   "cell_type": "code",
   "execution_count": 17,
   "metadata": {},
   "outputs": [
    {
     "data": {
      "text/plain": [
       "2"
      ]
     },
     "execution_count": 17,
     "metadata": {},
     "output_type": "execute_result"
    }
   ],
   "source": [
    "int(repeat_num_per_restaurant)-1"
   ]
  },
  {
   "cell_type": "code",
   "execution_count": 18,
   "metadata": {},
   "outputs": [
    {
     "data": {
      "text/plain": [
       "2"
      ]
     },
     "execution_count": 18,
     "metadata": {},
     "output_type": "execute_result"
    }
   ],
   "source": [
    "repeat_total"
   ]
  },
  {
   "cell_type": "code",
   "execution_count": 19,
   "metadata": {},
   "outputs": [
    {
     "data": {
      "text/plain": [
       "213"
      ]
     },
     "execution_count": 19,
     "metadata": {},
     "output_type": "execute_result"
    }
   ],
   "source": [
    "int(int(customer_num)%300)\n"
   ]
  },
  {
   "cell_type": "code",
   "execution_count": 20,
   "metadata": {},
   "outputs": [
    {
     "data": {
      "text/plain": [
       "815"
      ]
     },
     "execution_count": 20,
     "metadata": {},
     "output_type": "execute_result"
    }
   ],
   "source": [
    "finish"
   ]
  },
  {
   "cell_type": "code",
   "execution_count": null,
   "metadata": {},
   "outputs": [],
   "source": []
  }
 ],
 "metadata": {
  "kernelspec": {
   "display_name": "Python 3",
   "language": "python",
   "name": "python3"
  },
  "language_info": {
   "codemirror_mode": {
    "name": "ipython",
    "version": 3
   },
   "file_extension": ".py",
   "mimetype": "text/x-python",
   "name": "python",
   "nbconvert_exporter": "python",
   "pygments_lexer": "ipython3",
   "version": "3.7.6"
  }
 },
 "nbformat": 4,
 "nbformat_minor": 4
}
