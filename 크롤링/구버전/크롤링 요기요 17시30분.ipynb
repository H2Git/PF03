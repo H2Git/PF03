{
 "cells": [
  {
   "cell_type": "code",
   "execution_count": 9,
   "metadata": {},
   "outputs": [],
   "source": [
    "from selenium import webdriver as wb\n",
    "from selenium.webdriver.common.keys import Keys\n",
    "from bs4 import BeautifulSoup as bs\n",
    "import pandas as pd\n",
    "import time\n",
    "from tqdm.notebook import tqdm\n",
    "\n",
    "path = \"./chromedriver.exe\"\n",
    "url = \"https://www.yogiyo.co.kr/mobile/#/\"\n",
    "\n",
    "driver = wb.Chrome(path)\n",
    "driver.get(url)\n",
    "\n",
    "btn = driver.find_element_by_xpath(\"/html/body/div[2]/div[1]/div/div[2]/div/form/input\")\n",
    "btn.click()\n",
    "\n",
    "btn = driver.find_element_by_css_selector(\"#button_search_address > button.btn-search-location-cancel.btn-search-location.btn.btn-default\")\n",
    "btn.click()\n",
    "\n",
    "input_search = driver.find_element_by_xpath(\"/html/body/div[2]/div[1]/div/div[2]/div/form/input\")\n",
    "input_search.send_keys(\"서울특별시 관악구 미성동 608-35\")\n",
    "\n",
    "btn = driver.find_element_by_xpath('//*[@id=\"button_search_address\"]/button[2]')\n",
    "btn.click()\n",
    "\n",
    "time.sleep(0.5)"
   ]
  },
  {
   "cell_type": "code",
   "execution_count": 6,
   "metadata": {},
   "outputs": [],
   "source": [
    "#전체보기 2\n",
    "#1인분 주문 3\n",
    "#프랜차이즈 4\n",
    "#치킨 5\n",
    "#피자/양식 6\n",
    "#중국집 7\n",
    "#한식 8\n",
    "#일식/돈까스 9\n",
    "#돈까스족발보쌈 10\n",
    "#야식분식카페 11\n",
    "#디저트편의점 12\n",
    "#마트 13\n",
    "\n",
    "btn = driver.find_element_by_css_selector(\"#category > ul > li:nth-child(8) > span\")\n",
    "btn.click()\n",
    "\n",
    "time.sleep(0.2)\n",
    "\n",
    "#리뷰 많은 순 보기\n",
    "btn = driver.find_element_by_css_selector(\"#content > div > div.row.restaurant-list-info > div.list-option > div > select > option:nth-child(3)\")\n",
    "btn.click()"
   ]
  },
  {
   "cell_type": "code",
   "execution_count": null,
   "metadata": {},
   "outputs": [],
   "source": []
  },
  {
   "cell_type": "code",
   "execution_count": null,
   "metadata": {},
   "outputs": [
    {
     "data": {
      "application/vnd.jupyter.widget-view+json": {
       "model_id": "04132b90e6ff42b297e7044253be8241",
       "version_major": 2,
       "version_minor": 0
      },
      "text/plain": [
       "HBox(children=(FloatProgress(value=0.0, max=521.0), HTML(value='')))"
      ]
     },
     "metadata": {},
     "output_type": "display_data"
    },
    {
     "name": "stdout",
     "output_type": "stream",
     "text": [
      "\n"
     ]
    },
    {
     "data": {
      "application/vnd.jupyter.widget-view+json": {
       "model_id": "624968ae6232481b93e288a993f18ed7",
       "version_major": 2,
       "version_minor": 0
      },
      "text/plain": [
       "HBox(children=(FloatProgress(value=0.0, max=74.0), HTML(value='')))"
      ]
     },
     "metadata": {},
     "output_type": "display_data"
    },
    {
     "name": "stdout",
     "output_type": "stream",
     "text": [
      "\n"
     ]
    },
    {
     "data": {
      "application/vnd.jupyter.widget-view+json": {
       "model_id": "b8b8642d30b7474d837c90b8280a2031",
       "version_major": 2,
       "version_minor": 0
      },
      "text/plain": [
       "HBox(children=(FloatProgress(value=0.0, max=3.0), HTML(value='')))"
      ]
     },
     "metadata": {},
     "output_type": "display_data"
    },
    {
     "name": "stdout",
     "output_type": "stream",
     "text": [
      "\n"
     ]
    },
    {
     "data": {
      "application/vnd.jupyter.widget-view+json": {
       "model_id": "a191b4832e634c89bb1c5db088adac40",
       "version_major": 2,
       "version_minor": 0
      },
      "text/plain": [
       "HBox(children=(FloatProgress(value=0.0, max=5.0), HTML(value='')))"
      ]
     },
     "metadata": {},
     "output_type": "display_data"
    },
    {
     "name": "stdout",
     "output_type": "stream",
     "text": [
      "\n"
     ]
    },
    {
     "data": {
      "application/vnd.jupyter.widget-view+json": {
       "model_id": "34fbfd95f98c49db8752e393f8ddcbd0",
       "version_major": 2,
       "version_minor": 0
      },
      "text/plain": [
       "HBox(children=(FloatProgress(value=0.0, max=272.0), HTML(value='')))"
      ]
     },
     "metadata": {},
     "output_type": "display_data"
    },
    {
     "name": "stdout",
     "output_type": "stream",
     "text": [
      "\n"
     ]
    },
    {
     "data": {
      "application/vnd.jupyter.widget-view+json": {
       "model_id": "506301be58474d3e90882ae6c9614013",
       "version_major": 2,
       "version_minor": 0
      },
      "text/plain": [
       "HBox(children=(FloatProgress(value=0.0, max=281.0), HTML(value='')))"
      ]
     },
     "metadata": {},
     "output_type": "display_data"
    },
    {
     "name": "stdout",
     "output_type": "stream",
     "text": [
      "\n"
     ]
    },
    {
     "data": {
      "application/vnd.jupyter.widget-view+json": {
       "model_id": "19771efa9fc34e18b3cbbead51ed97ce",
       "version_major": 2,
       "version_minor": 0
      },
      "text/plain": [
       "HBox(children=(FloatProgress(value=1.0, bar_style='info', max=1.0), HTML(value='')))"
      ]
     },
     "metadata": {},
     "output_type": "display_data"
    },
    {
     "name": "stdout",
     "output_type": "stream",
     "text": [
      "\n"
     ]
    }
   ],
   "source": [
    "for restaurant_num in range(1,12,1):\n",
    "    \n",
    "    #식당 리스트\n",
    "    restaurant_list = driver.find_element_by_css_selector(f\"#content > div > div:nth-child(5) > div > div > div:nth-child({restaurant_num}) > div\")\n",
    "    restaurant_list.click()\n",
    "    \n",
    "    time.sleep(1)\n",
    "    \n",
    "    #식당 이름 가져오기\n",
    "    restaurant_name =  driver.find_element_by_css_selector(\"#content > div.restaurant-detail.row.ng-scope > div.col-sm-8 > div.restaurant-info > div.restaurant-title > span\").text.strip()\n",
    "\n",
    "    #식당 리뷰 페이지 넘어가기\n",
    "    restaurant_reviewpage = driver.find_element_by_css_selector(\"#content > div.restaurant-detail.row.ng-scope > div.col-sm-8 > ul > li:nth-child(2)\")\n",
    "    restaurant_reviewpage.click()\n",
    "    \n",
    "    #댓글 수 체크\n",
    "    customer_num = driver.find_element_by_css_selector(\"#content > div.restaurant-detail.row.ng-scope > div.col-sm-8 > div:nth-child(6) > div.review-count > div > strong:nth-child(1)\").text.strip()\n",
    "    owner_num = driver.find_element_by_css_selector(\"#content > div.restaurant-detail.row.ng-scope > div.col-sm-8 > div:nth-child(6) > div.review-count > div > strong:nth-child(2)\").text.strip()\n",
    "    customer_num\n",
    "    \n",
    "    while True:\n",
    "        try:\n",
    "            btn=driver.find_element_by_css_selector('span>i.arr-down')\n",
    "            btn.click()\n",
    "            time.sleep(1.4)\n",
    "        except:\n",
    "            break\n",
    "\n",
    "    taste_scores = []\n",
    "    amount_scores = []\n",
    "    delivery_scores = []\n",
    "    order_dates = []\n",
    "    order_details = []\n",
    "    customer_reviews = []\n",
    "    owner_dates = []\n",
    "    owner_reviews = []\n",
    "\n",
    "    start = 2\n",
    "    repeat_num = int(customer_num)+2\n",
    "    \n",
    "    # 리뷰 2~ 리뷰 숫자만큼반복\n",
    "    # 더보기 후 2번재 리뷰에서 \n",
    "    print(restaurant_name)\n",
    "    \n",
    "    for j in tqdm(range(start, repeat_num, 1)):\n",
    "        \n",
    "        try:\n",
    "            taste_score = driver.find_elements_by_css_selector(f'#review > li:nth-child({j}) > div:nth-child(2) > div > span.category > span:nth-child(3)')[0].text.strip()\n",
    "        except:\n",
    "            taste_score = 0\n",
    "        try:\n",
    "            amount_score = driver.find_elements_by_css_selector(f'#review > li:nth-child({j}) > div:nth-child(2) > div > span.category > span:nth-child(6)')[0].text.strip()\n",
    "        except:\n",
    "            amount_score = 0\n",
    "        try:\n",
    "            delivery_score = driver.find_elements_by_css_selector(f'#review > li:nth-child({j}) > div:nth-child(2) > div > span.category > span:nth-child(9)')[0].text.strip()\n",
    "        except:\n",
    "            delivery_score = 0\n",
    "        try:\n",
    "            order_date = driver.find_elements_by_css_selector(f'#review > li:nth-child({j}) > div:nth-child(1) > span.review-time.ng-binding')[0].text.strip()\n",
    "        except:\n",
    "            order_date = 0\n",
    "        try:\n",
    "            order_detail = driver.find_elements_by_css_selector(f'#review > li:nth-child({j}) > div.order-items.default.ng-binding')[0].text.strip()\n",
    "        except:\n",
    "            order_detail = 0\n",
    "        try:\n",
    "            customer_review = driver.find_elements_by_css_selector(f'#review > li:nth-child({j}) > p')[0].text.strip()\n",
    "        except:\n",
    "            customer_review = 0\n",
    "        try:\n",
    "            owner_date = driver.find_elements_by_css_selector(f'#review > li:nth-child({j}) > div.review-answer.ng-scope > div > span.review-time.ng-binding')[0].text.strip()\n",
    "        except:\n",
    "            owner_date = 0    \n",
    "        try:\n",
    "            owner_review = driver.find_elements_by_css_selector(f'#review > li:nth-child({j}) > div.review-answer.ng-scope > p')[0].text.strip()\n",
    "        except:\n",
    "            owner_review = 0\n",
    "\n",
    "        taste_scores.append(taste_score)\n",
    "        amount_scores.append(amount_score)\n",
    "        delivery_scores.append(delivery_score)\n",
    "        order_dates.append(order_date)\n",
    "        order_details.append(order_detail)\n",
    "        customer_reviews.append(customer_review)\n",
    "        owner_dates.append(owner_date)\n",
    "        owner_reviews.append(owner_review)\n",
    "\n",
    "    restaurant_info = {'taste':taste_scores,'amount':amount_scores,\n",
    "                        'delivery':delivery_scores,'order':order_details,\n",
    "                        'order_date':order_dates,'customer':customer_reviews,\n",
    "                        'owner_date':owner_dates,'owner':owner_reviews}\n",
    "    \n",
    "    restaurant_info_toCSV = pd.DataFrame(restaurant_info)\n",
    "    restaurant_info_toCSV.to_csv(f\"{restaurant_name}.csv\", encoding=\"utf-16\")\n",
    "    \n",
    "    driver.back()\n",
    "    time.sleep(2)\n"
   ]
  },
  {
   "cell_type": "code",
   "execution_count": null,
   "metadata": {},
   "outputs": [],
   "source": []
  }
 ],
 "metadata": {
  "kernelspec": {
   "display_name": "Python 3",
   "language": "python",
   "name": "python3"
  },
  "language_info": {
   "codemirror_mode": {
    "name": "ipython",
    "version": 3
   },
   "file_extension": ".py",
   "mimetype": "text/x-python",
   "name": "python",
   "nbconvert_exporter": "python",
   "pygments_lexer": "ipython3",
   "version": "3.8.3"
  }
 },
 "nbformat": 4,
 "nbformat_minor": 4
}
