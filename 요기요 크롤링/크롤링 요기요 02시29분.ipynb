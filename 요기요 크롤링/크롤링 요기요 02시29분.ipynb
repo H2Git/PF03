{
 "cells": [
  {
   "cell_type": "code",
   "execution_count": 2,
   "metadata": {},
   "outputs": [],
   "source": [
    "from selenium import webdriver as wb\n",
    "from selenium.webdriver.common.keys import Keys\n",
    "from bs4 import BeautifulSoup as bs\n",
    "import pandas as pd\n",
    "import time\n",
    "from tqdm.notebook import tqdm\n",
    "\n",
    "path = \"./chromedriver.exe\"\n",
    "url = \"https://www.yogiyo.co.kr/mobile/#/\"\n",
    "\n",
    "driver = wb.Chrome(path)\n",
    "driver.get(url)\n",
    "\n",
    "btn = driver.find_element_by_xpath(\"/html/body/div[2]/div[1]/div/div[2]/div/form/input\")\n",
    "btn.click()\n",
    "time.sleep(0.5)\n",
    "\n",
    "btn = driver.find_element_by_css_selector(\"#button_search_address > button.btn-search-location-cancel.btn-search-location.btn.btn-default\")\n",
    "btn.click()\n",
    "time.sleep(0.5)\n",
    "\n",
    "input_search = driver.find_element_by_xpath(\"/html/body/div[2]/div[1]/div/div[2]/div/form/input\")\n",
    "input_search.send_keys(\"서울특별시 강남구 논현동 280 이전노점28\")\n",
    "# 서울특별시 관악구 미성동 608-35\n",
    "time.sleep(0.5)\n",
    "\n",
    "btn = driver.find_element_by_xpath('//*[@id=\"button_search_address\"]/button[2]')\n",
    "btn.click()"
   ]
  },
  {
   "cell_type": "code",
   "execution_count": 2,
   "metadata": {},
   "outputs": [],
   "source": [
    "#전체보기 2\n",
    "#1인분 주문 3\n",
    "#프랜차이즈 4\n",
    "#치킨 5\n",
    "#피자/양식 6\n",
    "#중국집 7\n",
    "#한식 8\n",
    "#일식/돈까스 9\n",
    "#돈까스족발보쌈 10\n",
    "#야식분식카페 11\n",
    "#디저트편의점 12\n",
    "#마트 13\n",
    "\n",
    "btn = driver.find_element_by_css_selector(\"#category > ul > li:nth-child(8) > span\")\n",
    "btn.click()\n",
    "\n",
    "time.sleep(1)\n",
    "\n",
    "#리뷰 많은 순 보기\n",
    "btn = driver.find_element_by_css_selector(\"#content > div > div.row.restaurant-list-info > div.list-option > div > select > option:nth-child(3)\")\n",
    "btn.click()\n",
    "time.sleep(0.5)"
   ]
  },
  {
   "cell_type": "code",
   "execution_count": null,
   "metadata": {},
   "outputs": [
    {
     "data": {
      "application/vnd.jupyter.widget-view+json": {
       "model_id": "e896592f5a944dc9bf467f14ef12eaed",
       "version_major": 2,
       "version_minor": 0
      },
      "text/plain": [
       "HBox(children=(FloatProgress(value=0.0, max=32.0), HTML(value='')))"
      ]
     },
     "metadata": {},
     "output_type": "display_data"
    },
    {
     "name": "stdout",
     "output_type": "stream",
     "text": [
      "20번 식당부터, 52번 식당까지, 32개의 식당 중, 20번 식당 크롤링 중\n",
      "굽네치킨&피자-논현1동점 665개의 리뷰 크롤링\n"
     ]
    },
    {
     "data": {
      "application/vnd.jupyter.widget-view+json": {
       "model_id": "6acf5e8dde2f4b26af7fd0e2b6c5413e",
       "version_major": 2,
       "version_minor": 0
      },
      "text/plain": [
       "HBox(children=(FloatProgress(value=0.0, max=2.0), HTML(value='')))"
      ]
     },
     "metadata": {},
     "output_type": "display_data"
    },
    {
     "name": "stdout",
     "output_type": "stream",
     "text": [
      "더보기 30번 누르기 1번 반복 중 1번째 실행중\n"
     ]
    },
    {
     "data": {
      "application/vnd.jupyter.widget-view+json": {
       "model_id": "2d1f5df561804db0ac7ed665f066f330",
       "version_major": 2,
       "version_minor": 0
      },
      "text/plain": [
       "HBox(children=(FloatProgress(value=0.0, max=30.0), HTML(value='')))"
      ]
     },
     "metadata": {},
     "output_type": "display_data"
    },
    {
     "name": "stdout",
     "output_type": "stream",
     "text": [
      "\n",
      "1부터 300까지 크롤링중\n"
     ]
    },
    {
     "data": {
      "application/vnd.jupyter.widget-view+json": {
       "model_id": "b009a8808f4d448e95673697410ba9b5",
       "version_major": 2,
       "version_minor": 0
      },
      "text/plain": [
       "HBox(children=(FloatProgress(value=0.0, max=300.0), HTML(value='')))"
      ]
     },
     "metadata": {},
     "output_type": "display_data"
    },
    {
     "name": "stdout",
     "output_type": "stream",
     "text": [
      "\n",
      "더보기 30번 누르기 1번 반복 중 2번째 실행중\n"
     ]
    },
    {
     "data": {
      "application/vnd.jupyter.widget-view+json": {
       "model_id": "7050e6dd4bce4fbd9df9845a6b3419de",
       "version_major": 2,
       "version_minor": 0
      },
      "text/plain": [
       "HBox(children=(FloatProgress(value=0.0, max=30.0), HTML(value='')))"
      ]
     },
     "metadata": {},
     "output_type": "display_data"
    },
    {
     "name": "stdout",
     "output_type": "stream",
     "text": [
      "\n",
      "301부터 600까지 크롤링중\n"
     ]
    },
    {
     "data": {
      "application/vnd.jupyter.widget-view+json": {
       "model_id": "9fec9b1dba53499d9952284b2e1e007d",
       "version_major": 2,
       "version_minor": 0
      },
      "text/plain": [
       "HBox(children=(FloatProgress(value=0.0, max=300.0), HTML(value='')))"
      ]
     },
     "metadata": {},
     "output_type": "display_data"
    },
    {
     "name": "stdout",
     "output_type": "stream",
     "text": [
      "\n",
      "\n",
      "더보기 나머지 6번 반복 중 \n"
     ]
    },
    {
     "data": {
      "application/vnd.jupyter.widget-view+json": {
       "model_id": "03ac76416b2b4c33907f1dbe5ab03af9",
       "version_major": 2,
       "version_minor": 0
      },
      "text/plain": [
       "HBox(children=(FloatProgress(value=0.0, max=6.0), HTML(value='')))"
      ]
     },
     "metadata": {},
     "output_type": "display_data"
    },
    {
     "name": "stdout",
     "output_type": "stream",
     "text": [
      "\n",
      "601부터 667까지 크롤링중\n"
     ]
    },
    {
     "data": {
      "application/vnd.jupyter.widget-view+json": {
       "model_id": "69139d5d5b074f47a156cca14654915c",
       "version_major": 2,
       "version_minor": 0
      },
      "text/plain": [
       "HBox(children=(FloatProgress(value=0.0, max=65.0), HTML(value='')))"
      ]
     },
     "metadata": {},
     "output_type": "display_data"
    },
    {
     "name": "stdout",
     "output_type": "stream",
     "text": [
      "\n",
      "20번 식당부터, 52번 식당까지, 32개의 식당 중, 21번 식당 크롤링 중\n",
      "마시내탕수육-강남점 514개의 리뷰 크롤링\n"
     ]
    },
    {
     "data": {
      "application/vnd.jupyter.widget-view+json": {
       "model_id": "df0462970b4747c38fa5ae7c34a42f7d",
       "version_major": 2,
       "version_minor": 0
      },
      "text/plain": [
       "HBox(children=(FloatProgress(value=0.0, max=1.0), HTML(value='')))"
      ]
     },
     "metadata": {},
     "output_type": "display_data"
    },
    {
     "name": "stdout",
     "output_type": "stream",
     "text": [
      "더보기 30번 누르기 0번 반복 중 1번째 실행중\n"
     ]
    },
    {
     "data": {
      "application/vnd.jupyter.widget-view+json": {
       "model_id": "9d5ece3cec9a48a590676551390207ac",
       "version_major": 2,
       "version_minor": 0
      },
      "text/plain": [
       "HBox(children=(FloatProgress(value=0.0, max=30.0), HTML(value='')))"
      ]
     },
     "metadata": {},
     "output_type": "display_data"
    },
    {
     "name": "stdout",
     "output_type": "stream",
     "text": [
      "\n",
      "1부터 300까지 크롤링중\n"
     ]
    },
    {
     "data": {
      "application/vnd.jupyter.widget-view+json": {
       "model_id": "38dbb908b5ee481aaf40198829728c4b",
       "version_major": 2,
       "version_minor": 0
      },
      "text/plain": [
       "HBox(children=(FloatProgress(value=0.0, max=300.0), HTML(value='')))"
      ]
     },
     "metadata": {},
     "output_type": "display_data"
    },
    {
     "name": "stdout",
     "output_type": "stream",
     "text": [
      "\n",
      "\n",
      "더보기 나머지 21번 반복 중 \n"
     ]
    },
    {
     "data": {
      "application/vnd.jupyter.widget-view+json": {
       "model_id": "dac75e49932144719c273de299a02df1",
       "version_major": 2,
       "version_minor": 0
      },
      "text/plain": [
       "HBox(children=(FloatProgress(value=0.0, max=21.0), HTML(value='')))"
      ]
     },
     "metadata": {},
     "output_type": "display_data"
    },
    {
     "name": "stdout",
     "output_type": "stream",
     "text": [
      "\n",
      "301부터 516까지 크롤링중\n"
     ]
    },
    {
     "data": {
      "application/vnd.jupyter.widget-view+json": {
       "model_id": "b6306cd9be41439eaf17a3d417b73a11",
       "version_major": 2,
       "version_minor": 0
      },
      "text/plain": [
       "HBox(children=(FloatProgress(value=0.0, max=214.0), HTML(value='')))"
      ]
     },
     "metadata": {},
     "output_type": "display_data"
    }
   ],
   "source": [
    "first_restaurant_number = 20\n",
    "last_restaurant_number = 52\n",
    "total_restaurant = last_restaurant_number - first_restaurant_number\n",
    "\n",
    "for restaurant_num in tqdm(range(first_restaurant_number,last_restaurant_number,1)):\n",
    "     \n",
    "    print(str(first_restaurant_number) + \"번 식당부터, \"+ str(last_restaurant_number) + \"번 식당까지, \"\n",
    "          + str(total_restaurant) + \"개의 식당 중, \"\n",
    "          + str(restaurant_num) + \"번 식당 크롤링 중\")\n",
    "    \n",
    "    #식당 리스트\n",
    "    restaurant_list = driver.find_element_by_css_selector(f\"#content > div > div:nth-child(5) > div > div > div:nth-child({restaurant_num}) > div\")\n",
    "    restaurant_list.click()\n",
    "    \n",
    "    time.sleep(1)\n",
    "    \n",
    "    #식당 이름 가져오기\n",
    "    restaurant_name =  driver.find_element_by_css_selector(\"#content > div.restaurant-detail.row.ng-scope > div.col-sm-8 > div.restaurant-info > div.restaurant-title > span\").text.strip()\n",
    "\n",
    "    #식당 리뷰 페이지 넘어가기\n",
    "    restaurant_reviewpage = driver.find_element_by_css_selector(\"#content > div.restaurant-detail.row.ng-scope > div.col-sm-8 > ul > li:nth-child(2)\")\n",
    "    restaurant_reviewpage.click()\n",
    "    time.sleep(0.5)\n",
    "    \n",
    "    # 고객 댓글 수 체크\n",
    "    customer_num = driver.find_element_by_css_selector(\"#content > div.restaurant-detail.row.ng-scope > div.col-sm-8 > div:nth-child(6) > div.review-count > div > strong:nth-child(1)\").text.strip()\n",
    "    customer_num = int(customer_num)\n",
    "    \n",
    "    print(restaurant_name + \" \" + str(customer_num) +\"개의 리뷰 크롤링\")\n",
    "    \n",
    "    main_repeat = int(int(customer_num)/300)\n",
    "    rest_repeat = int((int(customer_num)%300)/10)\n",
    "    last_num = int(int(customer_num)+2)\n",
    "    \n",
    "    taste_scores = []\n",
    "    amount_scores = []\n",
    "    delivery_scores = []\n",
    "    order_dates = []\n",
    "    order_details = []\n",
    "    customer_reviews = []\n",
    "    owner_dates = []\n",
    "    owner_reviews = []\n",
    "    \n",
    "    start = 2\n",
    "    finish = 302\n",
    "\n",
    "    for repeat_total in tqdm(range(1, int(main_repeat)+1, 1)):\n",
    "        \n",
    "        time.sleep(0.5)\n",
    "        print(\"더보기 30번 누르기 \" + str(main_repeat-1) + \"번 반복 중 \" + str(repeat_total) + \"번째 실행중\")\n",
    "        for more in tqdm(range(1,31,1)):\n",
    "            try:\n",
    "                btn=driver.find_element_by_css_selector('span>i.arr-down')\n",
    "                btn.click()\n",
    "                time.sleep(3)\n",
    "            except:\n",
    "                break\n",
    "\n",
    "        print(str(start-1) + \"부터 \" + str(finish-2) + \"까지 크롤링중\")\n",
    "        \n",
    "        for j in tqdm(range(start, finish, 1)):\n",
    "\n",
    "            try:\n",
    "                taste_score = driver.find_elements_by_css_selector(f'#review > li:nth-child({j}) > div:nth-child(2) > div > span.category > span:nth-child(3)')[0].text.strip()\n",
    "            except:\n",
    "                taste_score = 0\n",
    "            try:\n",
    "                amount_score = driver.find_elements_by_css_selector(f'#review > li:nth-child({j}) > div:nth-child(2) > div > span.category > span:nth-child(6)')[0].text.strip()\n",
    "            except:\n",
    "                amount_score = 0\n",
    "            try:\n",
    "                delivery_score = driver.find_elements_by_css_selector(f'#review > li:nth-child({j}) > div:nth-child(2) > div > span.category > span:nth-child(9)')[0].text.strip()\n",
    "            except:\n",
    "                delivery_score = 0\n",
    "            try:\n",
    "                order_date = driver.find_elements_by_css_selector(f'#review > li:nth-child({j}) > div:nth-child(1) > span.review-time.ng-binding')[0].text.strip()\n",
    "            except:\n",
    "                order_date = 0\n",
    "            try:\n",
    "                order_detail = driver.find_elements_by_css_selector(f'#review > li:nth-child({j}) > div.order-items.default.ng-binding')[0].text.strip()\n",
    "            except:\n",
    "                order_detail = 0\n",
    "            try:\n",
    "                customer_review = driver.find_elements_by_css_selector(f'#review > li:nth-child({j}) > p')[0].text.strip()\n",
    "            except:\n",
    "                customer_review = 0\n",
    "            try:\n",
    "                owner_date = driver.find_elements_by_css_selector(f'#review > li:nth-child({j}) > div.review-answer.ng-scope > div > span.review-time.ng-binding')[0].text.strip()\n",
    "            except:\n",
    "                owner_date = 0    \n",
    "            try:\n",
    "                owner_review = driver.find_elements_by_css_selector(f'#review > li:nth-child({j}) > div.review-answer.ng-scope > p')[0].text.strip()\n",
    "            except:\n",
    "                owner_review = 0\n",
    "\n",
    "            taste_scores.append(taste_score)\n",
    "            amount_scores.append(amount_score)\n",
    "            delivery_scores.append(delivery_score)\n",
    "            order_dates.append(order_date)\n",
    "            order_details.append(order_detail)\n",
    "            customer_reviews.append(customer_review)\n",
    "            owner_dates.append(owner_date)\n",
    "            owner_reviews.append(owner_review)\n",
    "            time.sleep(0.1)\n",
    "\n",
    "        start = finish\n",
    "        \n",
    "        finish = finish + 300\n",
    "        \n",
    "        \n",
    "    time.sleep(0.5)\n",
    "    print(\"더보기 나머지 \" + str(rest_repeat) + \"번 반복 중 \" )\n",
    "    for more in tqdm(range(1,int(rest_repeat)+1,1)):\n",
    "        try:\n",
    "            btn=driver.find_element_by_css_selector('span>i.arr-down')\n",
    "            btn.click()\n",
    "            time.sleep(3)\n",
    "        except:\n",
    "            break\n",
    "\n",
    "    print(str(start-1) + \"부터 \" + str(last_num) + \"까지 크롤링중\")\n",
    "\n",
    "    for j in tqdm(range(start, last_num, 1)):\n",
    "\n",
    "        try:\n",
    "            taste_score = driver.find_elements_by_css_selector(f'#review > li:nth-child({j}) > div:nth-child(2) > div > span.category > span:nth-child(3)')[0].text.strip()\n",
    "        except:\n",
    "            taste_score = 0\n",
    "        try:\n",
    "            amount_score = driver.find_elements_by_css_selector(f'#review > li:nth-child({j}) > div:nth-child(2) > div > span.category > span:nth-child(6)')[0].text.strip()\n",
    "        except:\n",
    "            amount_score = 0\n",
    "        try:\n",
    "            delivery_score = driver.find_elements_by_css_selector(f'#review > li:nth-child({j}) > div:nth-child(2) > div > span.category > span:nth-child(9)')[0].text.strip()\n",
    "        except:\n",
    "            delivery_score = 0\n",
    "        try:\n",
    "            order_date = driver.find_elements_by_css_selector(f'#review > li:nth-child({j}) > div:nth-child(1) > span.review-time.ng-binding')[0].text.strip()\n",
    "        except:\n",
    "            order_date = 0\n",
    "        try:\n",
    "            order_detail = driver.find_elements_by_css_selector(f'#review > li:nth-child({j}) > div.order-items.default.ng-binding')[0].text.strip()\n",
    "        except:\n",
    "            order_detail = 0\n",
    "        try:\n",
    "            customer_review = driver.find_elements_by_css_selector(f'#review > li:nth-child({j}) > p')[0].text.strip()\n",
    "        except:\n",
    "            customer_review = 0\n",
    "        try:\n",
    "            owner_date = driver.find_elements_by_css_selector(f'#review > li:nth-child({j}) > div.review-answer.ng-scope > div > span.review-time.ng-binding')[0].text.strip()\n",
    "        except:\n",
    "            owner_date = 0    \n",
    "        try:\n",
    "            owner_review = driver.find_elements_by_css_selector(f'#review > li:nth-child({j}) > div.review-answer.ng-scope > p')[0].text.strip()\n",
    "        except:\n",
    "            owner_review = 0\n",
    "\n",
    "        taste_scores.append(taste_score)\n",
    "        amount_scores.append(amount_score)\n",
    "        delivery_scores.append(delivery_score)\n",
    "        order_dates.append(order_date)\n",
    "        order_details.append(order_detail)\n",
    "        customer_reviews.append(customer_review)\n",
    "        owner_dates.append(owner_date)\n",
    "        owner_reviews.append(owner_review)\n",
    "        time.sleep(0.1)\n",
    "\n",
    "        \n",
    "\n",
    "    time.sleep(2) \n",
    "    restaurant_info = {'taste':taste_scores,'amount':amount_scores,\n",
    "                    'delivery':delivery_scores,'order':order_details,\n",
    "                    'order_date':order_dates,'customer':customer_reviews,\n",
    "                    'owner_date':owner_dates,'owner':owner_reviews}\n",
    "    restaurant_info_toCSV = pd.DataFrame(restaurant_info)\n",
    "    restaurant_info_toCSV.to_csv(f\"{restaurant_name}.csv\", encoding=\"utf-16\")\n",
    "    \n",
    "    driver.back()\n",
    "    time.sleep(5)"
   ]
  },
  {
   "cell_type": "code",
   "execution_count": 5,
   "metadata": {},
   "outputs": [
    {
     "data": {
      "text/plain": [
       "8"
      ]
     },
     "execution_count": 5,
     "metadata": {},
     "output_type": "execute_result"
    }
   ],
   "source": [
    "main_repeat\n",
    "rest_repeat"
   ]
  },
  {
   "cell_type": "code",
   "execution_count": 17,
   "metadata": {},
   "outputs": [
    {
     "data": {
      "text/plain": [
       "2"
      ]
     },
     "execution_count": 17,
     "metadata": {},
     "output_type": "execute_result"
    }
   ],
   "source": [
    "int(rest_repeat)-1"
   ]
  },
  {
   "cell_type": "code",
   "execution_count": 18,
   "metadata": {},
   "outputs": [
    {
     "data": {
      "text/plain": [
       "2"
      ]
     },
     "execution_count": 18,
     "metadata": {},
     "output_type": "execute_result"
    }
   ],
   "source": [
    "repeat_total"
   ]
  },
  {
   "cell_type": "code",
   "execution_count": 19,
   "metadata": {},
   "outputs": [
    {
     "data": {
      "text/plain": [
       "213"
      ]
     },
     "execution_count": 19,
     "metadata": {},
     "output_type": "execute_result"
    }
   ],
   "source": [
    "int(int(customer_num)%300)\n"
   ]
  },
  {
   "cell_type": "code",
   "execution_count": 7,
   "metadata": {},
   "outputs": [
    {
     "data": {
      "text/plain": [
       "776"
      ]
     },
     "execution_count": 7,
     "metadata": {},
     "output_type": "execute_result"
    }
   ],
   "source": [
    "finish"
   ]
  },
  {
   "cell_type": "code",
   "execution_count": 8,
   "metadata": {},
   "outputs": [
    {
     "data": {
      "text/plain": [
       "23"
      ]
     },
     "execution_count": 8,
     "metadata": {},
     "output_type": "execute_result"
    }
   ],
   "source": [
    "rest"
   ]
  },
  {
   "cell_type": "code",
   "execution_count": null,
   "metadata": {},
   "outputs": [],
   "source": []
  }
 ],
 "metadata": {
  "kernelspec": {
   "display_name": "Python 3",
   "language": "python",
   "name": "python3"
  },
  "language_info": {
   "codemirror_mode": {
    "name": "ipython",
    "version": 3
   },
   "file_extension": ".py",
   "mimetype": "text/x-python",
   "name": "python",
   "nbconvert_exporter": "python",
   "pygments_lexer": "ipython3",
   "version": "3.7.6"
  }
 },
 "nbformat": 4,
 "nbformat_minor": 4
}
