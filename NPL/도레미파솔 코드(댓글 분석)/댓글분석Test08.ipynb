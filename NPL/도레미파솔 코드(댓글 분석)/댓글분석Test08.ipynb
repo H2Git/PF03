{
  "nbformat": 4,
  "nbformat_minor": 0,
  "metadata": {
    "kernelspec": {
      "display_name": "Python 3",
      "language": "python",
      "name": "python3"
    },
    "language_info": {
      "codemirror_mode": {
        "name": "ipython",
        "version": 3
      },
      "file_extension": ".py",
      "mimetype": "text/x-python",
      "name": "python",
      "nbconvert_exporter": "python",
      "pygments_lexer": "ipython3",
      "version": "3.6.10"
    },
    "colab": {
      "name": "댓글분석Test08.ipynb",
      "provenance": [],
      "collapsed_sections": [],
      "machine_shape": "hm"
    },
    "accelerator": "TPU"
  },
  "cells": [
    {
      "cell_type": "code",
      "metadata": {
        "id": "KyJotzslMk4Z",
        "colab_type": "code",
        "colab": {}
      },
      "source": [
        "from tensorflow.keras import Sequential\n",
        "from tensorflow.keras.datasets import reuters\n",
        "import numpy as np\n",
        "import pandas as pd \n",
        "import matplotlib.pyplot as plt\n",
        "from tensorflow.keras.layers import Dense, LSTM\n",
        "from tensorflow.keras.preprocessing.text import Tokenizer\n",
        "import math"
      ],
      "execution_count": 1,
      "outputs": []
    },
    {
      "cell_type": "markdown",
      "metadata": {
        "id": "WX-tLB9xMk4d",
        "colab_type": "text"
      },
      "source": [
        "# 파일 불러오기"
      ]
    },
    {
      "cell_type": "code",
      "metadata": {
        "id": "Qq146RqsNBwe",
        "colab_type": "code",
        "colab": {
          "base_uri": "https://localhost:8080/",
          "height": 34
        },
        "outputId": "69dd0c87-c61a-4d3f-cc3d-b357af6b5c54"
      },
      "source": [
        "from google.colab import drive\n",
        "drive.mount('/content/drive')"
      ],
      "execution_count": 3,
      "outputs": [
        {
          "output_type": "stream",
          "text": [
            "Mounted at /content/drive\n"
          ],
          "name": "stdout"
        }
      ]
    },
    {
      "cell_type": "code",
      "metadata": {
        "id": "Ug6ys9cgNYck",
        "colab_type": "code",
        "colab": {}
      },
      "source": [
        "df = pd.read_csv('drive/My Drive/Colab Notebooks/3rd Project/3rd_Project_Data/TasteScore_TrainDataSet.csv', encoding='utf-16')"
      ],
      "execution_count": 190,
      "outputs": []
    },
    {
      "cell_type": "code",
      "metadata": {
        "id": "Y-YK6pmPMk4u",
        "colab_type": "code",
        "colab": {}
      },
      "source": [
        "df = df.sample(frac=1).reset_index(drop=True)"
      ],
      "execution_count": 191,
      "outputs": []
    },
    {
      "cell_type": "code",
      "metadata": {
        "id": "4t3U7_MzMk4x",
        "colab_type": "code",
        "colab": {}
      },
      "source": [
        "X = df['customer_review']"
      ],
      "execution_count": 192,
      "outputs": []
    },
    {
      "cell_type": "code",
      "metadata": {
        "id": "qK5R3RosMk4z",
        "colab_type": "code",
        "colab": {}
      },
      "source": [
        "y = df['taste']"
      ],
      "execution_count": 193,
      "outputs": []
    },
    {
      "cell_type": "markdown",
      "metadata": {
        "id": "rPWuonj_Mk46",
        "colab_type": "text"
      },
      "source": [
        "# 시작"
      ]
    },
    {
      "cell_type": "code",
      "metadata": {
        "id": "jt0R5PfMMk47",
        "colab_type": "code",
        "colab": {}
      },
      "source": [
        "#KoNLPy패키지에는 Hannanum, Kkma, Komoran, Mecab, Okt(Twitter)등의 클래스들이 있습니다\n",
        "# https://mr-doosun.tistory.com/22\n",
        "# Okt (Twitter) Class\n",
        "# 해당 분석기는 오픈 소스 한국어 분석기이고, 과거 트위터 형태소 분석기였습니다.\n",
        "\n",
        "# KoNLPy 문서에 따른 클래스간의 성능 비교\n",
        "# https://konlpy.org/ko/v0.4.3/morph/\n",
        "\n",
        "# morphs  텍스트에서 형태소를 반환한다 / 형태소 : 일정한 의미가 있는 가장 작은 말의 단위\n",
        "# nouns   텍스트에서 명사를 반환한다\n",
        "# phrases 텍스트에서 어절을 뽑아낸다\n",
        "# pos     텍스트에서 품사 정보를 부착하여 반환한다"
      ],
      "execution_count": 196,
      "outputs": []
    },
    {
      "cell_type": "code",
      "metadata": {
        "id": "hv5oGlq-Mk4_",
        "colab_type": "code",
        "colab": {}
      },
      "source": [
        "# okt(Open Korean Text) \n",
        "# okt test\n",
        "# okt.morphs('KoNLPy패키지에는 Hannanum, Kkma, Komoran, Mecab, Okt(Twitter)등의 클래스들이 있습니다.')\n",
        "# !pip install konlpy\n",
        "from konlpy.tag import Okt\n",
        "okt = Okt()"
      ],
      "execution_count": 199,
      "outputs": []
    },
    {
      "cell_type": "code",
      "metadata": {
        "id": "hdLcdFcAMk5G",
        "colab_type": "code",
        "colab": {}
      },
      "source": [
        "from sklearn.model_selection import train_test_split\n",
        "\n",
        "X_train, X_test, y_train, y_test = train_test_split(X, y, test_size=0.3, random_state = 84)"
      ],
      "execution_count": 200,
      "outputs": []
    },
    {
      "cell_type": "code",
      "metadata": {
        "id": "3uYBdZS2Mk5I",
        "colab_type": "code",
        "colab": {
          "base_uri": "https://localhost:8080/",
          "height": 34
        },
        "outputId": "bd27be38-d4da-4083-d827-694eef90d2c2"
      },
      "source": [
        "len(X_train),len(y_train), len(X_test), len(y_test)"
      ],
      "execution_count": 201,
      "outputs": [
        {
          "output_type": "execute_result",
          "data": {
            "text/plain": [
              "(43005, 43005, 18431, 18431)"
            ]
          },
          "metadata": {
            "tags": []
          },
          "execution_count": 201
        }
      ]
    },
    {
      "cell_type": "markdown",
      "metadata": {
        "id": "f_FWtS-lMk5M",
        "colab_type": "text"
      },
      "source": [
        "# TF-IDF (+파라미터)"
      ]
    },
    {
      "cell_type": "code",
      "metadata": {
        "id": "5hCNLVPIMk5N",
        "colab_type": "code",
        "colab": {
          "base_uri": "https://localhost:8080/",
          "height": 85
        },
        "outputId": "bcc1ff6e-66b5-4c6f-916d-d2d4896b8eee"
      },
      "source": [
        "# min-df DF(document-frequency)의 최소 빈도값 <-> max-df\n",
        "# n-gram 것은 단어의 묶음\n",
        "# analyzer = 'word'라고 설정시, 학습의 단위를 단어로 (ex - home, go, my ...)\n",
        "# analyzer = 'char'라고 설정시, 학습의 단위를 글자로 (ex - a, b, c, d ...)\n",
        "# ngram_range = (1, 2)라고 한다면, 단어의 묶음을 1개부터 2개까지 설정\n",
        "# go home', 'very good'과 같은 2개 짜리 묶음도 인덱스를 받게 되는 것\n",
        "# 단어가 묶여야 비로소 의미를 가지는 것들을 위해\n",
        "# max_feature는 tf-idf vector의 최대 feature를 설정 /  사전에 EDA를 통해서 데이터의 length를 확인\n",
        "\n",
        "from sklearn.feature_extraction.text import TfidfVectorizer\n",
        "tfv = TfidfVectorizer(tokenizer=okt.morphs, ngram_range=(1,3), min_df=3, max_df=0.9)\n",
        "tfv.fit(X_train)\n",
        "tfv_X_train = tfv.transform(X_train)\n",
        "tfv_X_train"
      ],
      "execution_count": 202,
      "outputs": [
        {
          "output_type": "stream",
          "text": [
            "/usr/local/lib/python3.6/dist-packages/sklearn/feature_extraction/text.py:507: UserWarning: The parameter 'token_pattern' will not be used since 'tokenizer' is not None'\n",
            "  warnings.warn(\"The parameter 'token_pattern' will not be used\"\n"
          ],
          "name": "stderr"
        },
        {
          "output_type": "execute_result",
          "data": {
            "text/plain": [
              "<43005x72116 sparse matrix of type '<class 'numpy.float64'>'\n",
              "\twith 1259616 stored elements in Compressed Sparse Row format>"
            ]
          },
          "metadata": {
            "tags": []
          },
          "execution_count": 202
        }
      ]
    },
    {
      "cell_type": "code",
      "metadata": {
        "id": "s3MmuIW9Mk5R",
        "colab_type": "code",
        "colab": {
          "base_uri": "https://localhost:8080/",
          "height": 1000
        },
        "outputId": "ef57e46c-2f05-465b-acb5-869db66dcd5a"
      },
      "source": [
        "from sklearn.linear_model import LogisticRegression\n",
        "from sklearn.model_selection import GridSearchCV\n",
        "\n",
        "clf = LogisticRegression(random_state=0)\n",
        "params = {'C': [1,3,5,7,9]}\n",
        "grid_cv = GridSearchCV(clf, param_grid = params, cv=4, scoring='accuracy', verbose=1)\n",
        "grid_cv.fit(tfv_X_train, y_train)"
      ],
      "execution_count": 203,
      "outputs": [
        {
          "output_type": "stream",
          "text": [
            "Fitting 4 folds for each of 5 candidates, totalling 20 fits\n"
          ],
          "name": "stdout"
        },
        {
          "output_type": "stream",
          "text": [
            "[Parallel(n_jobs=1)]: Using backend SequentialBackend with 1 concurrent workers.\n",
            "/usr/local/lib/python3.6/dist-packages/sklearn/linear_model/_logistic.py:940: ConvergenceWarning: lbfgs failed to converge (status=1):\n",
            "STOP: TOTAL NO. of ITERATIONS REACHED LIMIT.\n",
            "\n",
            "Increase the number of iterations (max_iter) or scale the data as shown in:\n",
            "    https://scikit-learn.org/stable/modules/preprocessing.html\n",
            "Please also refer to the documentation for alternative solver options:\n",
            "    https://scikit-learn.org/stable/modules/linear_model.html#logistic-regression\n",
            "  extra_warning_msg=_LOGISTIC_SOLVER_CONVERGENCE_MSG)\n",
            "/usr/local/lib/python3.6/dist-packages/sklearn/linear_model/_logistic.py:940: ConvergenceWarning: lbfgs failed to converge (status=1):\n",
            "STOP: TOTAL NO. of ITERATIONS REACHED LIMIT.\n",
            "\n",
            "Increase the number of iterations (max_iter) or scale the data as shown in:\n",
            "    https://scikit-learn.org/stable/modules/preprocessing.html\n",
            "Please also refer to the documentation for alternative solver options:\n",
            "    https://scikit-learn.org/stable/modules/linear_model.html#logistic-regression\n",
            "  extra_warning_msg=_LOGISTIC_SOLVER_CONVERGENCE_MSG)\n",
            "/usr/local/lib/python3.6/dist-packages/sklearn/linear_model/_logistic.py:940: ConvergenceWarning: lbfgs failed to converge (status=1):\n",
            "STOP: TOTAL NO. of ITERATIONS REACHED LIMIT.\n",
            "\n",
            "Increase the number of iterations (max_iter) or scale the data as shown in:\n",
            "    https://scikit-learn.org/stable/modules/preprocessing.html\n",
            "Please also refer to the documentation for alternative solver options:\n",
            "    https://scikit-learn.org/stable/modules/linear_model.html#logistic-regression\n",
            "  extra_warning_msg=_LOGISTIC_SOLVER_CONVERGENCE_MSG)\n",
            "/usr/local/lib/python3.6/dist-packages/sklearn/linear_model/_logistic.py:940: ConvergenceWarning: lbfgs failed to converge (status=1):\n",
            "STOP: TOTAL NO. of ITERATIONS REACHED LIMIT.\n",
            "\n",
            "Increase the number of iterations (max_iter) or scale the data as shown in:\n",
            "    https://scikit-learn.org/stable/modules/preprocessing.html\n",
            "Please also refer to the documentation for alternative solver options:\n",
            "    https://scikit-learn.org/stable/modules/linear_model.html#logistic-regression\n",
            "  extra_warning_msg=_LOGISTIC_SOLVER_CONVERGENCE_MSG)\n",
            "/usr/local/lib/python3.6/dist-packages/sklearn/linear_model/_logistic.py:940: ConvergenceWarning: lbfgs failed to converge (status=1):\n",
            "STOP: TOTAL NO. of ITERATIONS REACHED LIMIT.\n",
            "\n",
            "Increase the number of iterations (max_iter) or scale the data as shown in:\n",
            "    https://scikit-learn.org/stable/modules/preprocessing.html\n",
            "Please also refer to the documentation for alternative solver options:\n",
            "    https://scikit-learn.org/stable/modules/linear_model.html#logistic-regression\n",
            "  extra_warning_msg=_LOGISTIC_SOLVER_CONVERGENCE_MSG)\n",
            "/usr/local/lib/python3.6/dist-packages/sklearn/linear_model/_logistic.py:940: ConvergenceWarning: lbfgs failed to converge (status=1):\n",
            "STOP: TOTAL NO. of ITERATIONS REACHED LIMIT.\n",
            "\n",
            "Increase the number of iterations (max_iter) or scale the data as shown in:\n",
            "    https://scikit-learn.org/stable/modules/preprocessing.html\n",
            "Please also refer to the documentation for alternative solver options:\n",
            "    https://scikit-learn.org/stable/modules/linear_model.html#logistic-regression\n",
            "  extra_warning_msg=_LOGISTIC_SOLVER_CONVERGENCE_MSG)\n",
            "/usr/local/lib/python3.6/dist-packages/sklearn/linear_model/_logistic.py:940: ConvergenceWarning: lbfgs failed to converge (status=1):\n",
            "STOP: TOTAL NO. of ITERATIONS REACHED LIMIT.\n",
            "\n",
            "Increase the number of iterations (max_iter) or scale the data as shown in:\n",
            "    https://scikit-learn.org/stable/modules/preprocessing.html\n",
            "Please also refer to the documentation for alternative solver options:\n",
            "    https://scikit-learn.org/stable/modules/linear_model.html#logistic-regression\n",
            "  extra_warning_msg=_LOGISTIC_SOLVER_CONVERGENCE_MSG)\n",
            "/usr/local/lib/python3.6/dist-packages/sklearn/linear_model/_logistic.py:940: ConvergenceWarning: lbfgs failed to converge (status=1):\n",
            "STOP: TOTAL NO. of ITERATIONS REACHED LIMIT.\n",
            "\n",
            "Increase the number of iterations (max_iter) or scale the data as shown in:\n",
            "    https://scikit-learn.org/stable/modules/preprocessing.html\n",
            "Please also refer to the documentation for alternative solver options:\n",
            "    https://scikit-learn.org/stable/modules/linear_model.html#logistic-regression\n",
            "  extra_warning_msg=_LOGISTIC_SOLVER_CONVERGENCE_MSG)\n",
            "/usr/local/lib/python3.6/dist-packages/sklearn/linear_model/_logistic.py:940: ConvergenceWarning: lbfgs failed to converge (status=1):\n",
            "STOP: TOTAL NO. of ITERATIONS REACHED LIMIT.\n",
            "\n",
            "Increase the number of iterations (max_iter) or scale the data as shown in:\n",
            "    https://scikit-learn.org/stable/modules/preprocessing.html\n",
            "Please also refer to the documentation for alternative solver options:\n",
            "    https://scikit-learn.org/stable/modules/linear_model.html#logistic-regression\n",
            "  extra_warning_msg=_LOGISTIC_SOLVER_CONVERGENCE_MSG)\n",
            "/usr/local/lib/python3.6/dist-packages/sklearn/linear_model/_logistic.py:940: ConvergenceWarning: lbfgs failed to converge (status=1):\n",
            "STOP: TOTAL NO. of ITERATIONS REACHED LIMIT.\n",
            "\n",
            "Increase the number of iterations (max_iter) or scale the data as shown in:\n",
            "    https://scikit-learn.org/stable/modules/preprocessing.html\n",
            "Please also refer to the documentation for alternative solver options:\n",
            "    https://scikit-learn.org/stable/modules/linear_model.html#logistic-regression\n",
            "  extra_warning_msg=_LOGISTIC_SOLVER_CONVERGENCE_MSG)\n",
            "/usr/local/lib/python3.6/dist-packages/sklearn/linear_model/_logistic.py:940: ConvergenceWarning: lbfgs failed to converge (status=1):\n",
            "STOP: TOTAL NO. of ITERATIONS REACHED LIMIT.\n",
            "\n",
            "Increase the number of iterations (max_iter) or scale the data as shown in:\n",
            "    https://scikit-learn.org/stable/modules/preprocessing.html\n",
            "Please also refer to the documentation for alternative solver options:\n",
            "    https://scikit-learn.org/stable/modules/linear_model.html#logistic-regression\n",
            "  extra_warning_msg=_LOGISTIC_SOLVER_CONVERGENCE_MSG)\n",
            "/usr/local/lib/python3.6/dist-packages/sklearn/linear_model/_logistic.py:940: ConvergenceWarning: lbfgs failed to converge (status=1):\n",
            "STOP: TOTAL NO. of ITERATIONS REACHED LIMIT.\n",
            "\n",
            "Increase the number of iterations (max_iter) or scale the data as shown in:\n",
            "    https://scikit-learn.org/stable/modules/preprocessing.html\n",
            "Please also refer to the documentation for alternative solver options:\n",
            "    https://scikit-learn.org/stable/modules/linear_model.html#logistic-regression\n",
            "  extra_warning_msg=_LOGISTIC_SOLVER_CONVERGENCE_MSG)\n",
            "/usr/local/lib/python3.6/dist-packages/sklearn/linear_model/_logistic.py:940: ConvergenceWarning: lbfgs failed to converge (status=1):\n",
            "STOP: TOTAL NO. of ITERATIONS REACHED LIMIT.\n",
            "\n",
            "Increase the number of iterations (max_iter) or scale the data as shown in:\n",
            "    https://scikit-learn.org/stable/modules/preprocessing.html\n",
            "Please also refer to the documentation for alternative solver options:\n",
            "    https://scikit-learn.org/stable/modules/linear_model.html#logistic-regression\n",
            "  extra_warning_msg=_LOGISTIC_SOLVER_CONVERGENCE_MSG)\n",
            "/usr/local/lib/python3.6/dist-packages/sklearn/linear_model/_logistic.py:940: ConvergenceWarning: lbfgs failed to converge (status=1):\n",
            "STOP: TOTAL NO. of ITERATIONS REACHED LIMIT.\n",
            "\n",
            "Increase the number of iterations (max_iter) or scale the data as shown in:\n",
            "    https://scikit-learn.org/stable/modules/preprocessing.html\n",
            "Please also refer to the documentation for alternative solver options:\n",
            "    https://scikit-learn.org/stable/modules/linear_model.html#logistic-regression\n",
            "  extra_warning_msg=_LOGISTIC_SOLVER_CONVERGENCE_MSG)\n",
            "/usr/local/lib/python3.6/dist-packages/sklearn/linear_model/_logistic.py:940: ConvergenceWarning: lbfgs failed to converge (status=1):\n",
            "STOP: TOTAL NO. of ITERATIONS REACHED LIMIT.\n",
            "\n",
            "Increase the number of iterations (max_iter) or scale the data as shown in:\n",
            "    https://scikit-learn.org/stable/modules/preprocessing.html\n",
            "Please also refer to the documentation for alternative solver options:\n",
            "    https://scikit-learn.org/stable/modules/linear_model.html#logistic-regression\n",
            "  extra_warning_msg=_LOGISTIC_SOLVER_CONVERGENCE_MSG)\n",
            "/usr/local/lib/python3.6/dist-packages/sklearn/linear_model/_logistic.py:940: ConvergenceWarning: lbfgs failed to converge (status=1):\n",
            "STOP: TOTAL NO. of ITERATIONS REACHED LIMIT.\n",
            "\n",
            "Increase the number of iterations (max_iter) or scale the data as shown in:\n",
            "    https://scikit-learn.org/stable/modules/preprocessing.html\n",
            "Please also refer to the documentation for alternative solver options:\n",
            "    https://scikit-learn.org/stable/modules/linear_model.html#logistic-regression\n",
            "  extra_warning_msg=_LOGISTIC_SOLVER_CONVERGENCE_MSG)\n",
            "[Parallel(n_jobs=1)]: Done  20 out of  20 | elapsed:   49.6s finished\n",
            "/usr/local/lib/python3.6/dist-packages/sklearn/linear_model/_logistic.py:940: ConvergenceWarning: lbfgs failed to converge (status=1):\n",
            "STOP: TOTAL NO. of ITERATIONS REACHED LIMIT.\n",
            "\n",
            "Increase the number of iterations (max_iter) or scale the data as shown in:\n",
            "    https://scikit-learn.org/stable/modules/preprocessing.html\n",
            "Please also refer to the documentation for alternative solver options:\n",
            "    https://scikit-learn.org/stable/modules/linear_model.html#logistic-regression\n",
            "  extra_warning_msg=_LOGISTIC_SOLVER_CONVERGENCE_MSG)\n"
          ],
          "name": "stderr"
        },
        {
          "output_type": "execute_result",
          "data": {
            "text/plain": [
              "GridSearchCV(cv=4, error_score=nan,\n",
              "             estimator=LogisticRegression(C=1.0, class_weight=None, dual=False,\n",
              "                                          fit_intercept=True,\n",
              "                                          intercept_scaling=1, l1_ratio=None,\n",
              "                                          max_iter=100, multi_class='auto',\n",
              "                                          n_jobs=None, penalty='l2',\n",
              "                                          random_state=0, solver='lbfgs',\n",
              "                                          tol=0.0001, verbose=0,\n",
              "                                          warm_start=False),\n",
              "             iid='deprecated', n_jobs=None, param_grid={'C': [1, 3, 5, 7, 9]},\n",
              "             pre_dispatch='2*n_jobs', refit=True, return_train_score=False,\n",
              "             scoring='accuracy', verbose=1)"
            ]
          },
          "metadata": {
            "tags": []
          },
          "execution_count": 203
        }
      ]
    },
    {
      "cell_type": "code",
      "metadata": {
        "scrolled": true,
        "id": "PqLR5NXQMk5T",
        "colab_type": "code",
        "colab": {
          "base_uri": "https://localhost:8080/",
          "height": 34
        },
        "outputId": "0ee87894-864c-440f-e1f4-75b736944523"
      },
      "source": [
        "grid_cv.best_params_"
      ],
      "execution_count": 204,
      "outputs": [
        {
          "output_type": "execute_result",
          "data": {
            "text/plain": [
              "{'C': 5}"
            ]
          },
          "metadata": {
            "tags": []
          },
          "execution_count": 204
        }
      ]
    },
    {
      "cell_type": "code",
      "metadata": {
        "id": "KqqpiksbMk5V",
        "colab_type": "code",
        "colab": {
          "base_uri": "https://localhost:8080/",
          "height": 34
        },
        "outputId": "4467b58e-47e9-46b3-8f50-9871e546167e"
      },
      "source": [
        "grid_cv.best_score_"
      ],
      "execution_count": 205,
      "outputs": [
        {
          "output_type": "execute_result",
          "data": {
            "text/plain": [
              "0.9212882108177368"
            ]
          },
          "metadata": {
            "tags": []
          },
          "execution_count": 205
        }
      ]
    },
    {
      "cell_type": "code",
      "metadata": {
        "id": "ShwCXmi-Mk5W",
        "colab_type": "code",
        "colab": {
          "base_uri": "https://localhost:8080/",
          "height": 34
        },
        "outputId": "be8e9f99-613a-46ed-b0d5-0bdcb01cc0ba"
      },
      "source": [
        "tfv_X_test=tfv.transform(X_test)\n",
        "grid_cv.best_estimator_.score(tfv_X_test,y_test)"
      ],
      "execution_count": 206,
      "outputs": [
        {
          "output_type": "execute_result",
          "data": {
            "text/plain": [
              "0.922847376702295"
            ]
          },
          "metadata": {
            "tags": []
          },
          "execution_count": 206
        }
      ]
    },
    {
      "cell_type": "markdown",
      "metadata": {
        "id": "3kNMLz-1Mk5Y",
        "colab_type": "text"
      },
      "source": [
        "# 테스트"
      ]
    },
    {
      "cell_type": "code",
      "metadata": {
        "id": "N6X7KtoIMk5Z",
        "colab_type": "code",
        "colab": {}
      },
      "source": [
        "TestSet=pd.read_csv('/content/drive/My Drive/Colab Notebooks/3rd Project/3rd_Project_Data/test_taste_df.csv',encoding='utf-16')"
      ],
      "execution_count": 207,
      "outputs": []
    },
    {
      "cell_type": "code",
      "metadata": {
        "id": "2_i4IAOlwuP8",
        "colab_type": "code",
        "colab": {
          "base_uri": "https://localhost:8080/",
          "height": 68
        },
        "outputId": "2b09b0a5-42e4-48f5-b3c2-86d77db94c4f"
      },
      "source": [
        "neg_test = TestSet[TestSet['taste']==0]\n",
        "print(\"부정: \", len(neg_test))\n",
        "pos_test = TestSet[TestSet['taste']==1]\n",
        "pos_test = pos_test.sample(n=500).reset_index(drop=True)\n",
        "print(\"긍정: \", len(pos_test))\n",
        "TestSet = pd.concat([neg_test, pos_test])\n",
        "print(\"TestSet: \", len(TestSet))\n"
      ],
      "execution_count": 208,
      "outputs": [
        {
          "output_type": "stream",
          "text": [
            "부정:  405\n",
            "긍정:  500\n",
            "TestSet:  905\n"
          ],
          "name": "stdout"
        }
      ]
    },
    {
      "cell_type": "code",
      "metadata": {
        "id": "cQ1DRMrJx2Hh",
        "colab_type": "code",
        "colab": {
          "base_uri": "https://localhost:8080/",
          "height": 419
        },
        "outputId": "837f15ab-0266-45ee-b7bc-e5d6dbde16b0"
      },
      "source": [
        "TestSet = TestSet.sample(frac=1).reset_index(drop=True)\n",
        "TestSet"
      ],
      "execution_count": 209,
      "outputs": [
        {
          "output_type": "execute_result",
          "data": {
            "text/html": [
              "<div>\n",
              "<style scoped>\n",
              "    .dataframe tbody tr th:only-of-type {\n",
              "        vertical-align: middle;\n",
              "    }\n",
              "\n",
              "    .dataframe tbody tr th {\n",
              "        vertical-align: top;\n",
              "    }\n",
              "\n",
              "    .dataframe thead th {\n",
              "        text-align: right;\n",
              "    }\n",
              "</style>\n",
              "<table border=\"1\" class=\"dataframe\">\n",
              "  <thead>\n",
              "    <tr style=\"text-align: right;\">\n",
              "      <th></th>\n",
              "      <th>Unnamed: 0</th>\n",
              "      <th>taste</th>\n",
              "      <th>customer_review</th>\n",
              "    </tr>\n",
              "  </thead>\n",
              "  <tbody>\n",
              "    <tr>\n",
              "      <th>0</th>\n",
              "      <td>6192</td>\n",
              "      <td>1.0</td>\n",
              "      <td>맛있어요 번창하세요 최고입니다</td>\n",
              "    </tr>\n",
              "    <tr>\n",
              "      <th>1</th>\n",
              "      <td>4832</td>\n",
              "      <td>0.0</td>\n",
              "      <td>맛없어요 돈아까워요. 비추천드려요</td>\n",
              "    </tr>\n",
              "    <tr>\n",
              "      <th>2</th>\n",
              "      <td>7920</td>\n",
              "      <td>1.0</td>\n",
              "      <td>맛도 괜찮고 양도 적당합니다 근데 고기 살보다 기름이 더 많아서 아쉬웠습니다</td>\n",
              "    </tr>\n",
              "    <tr>\n",
              "      <th>3</th>\n",
              "      <td>1510</td>\n",
              "      <td>1.0</td>\n",
              "      <td>마시써요 ㅋㅋㅋㅋㅋ 잘먹엇어요!!!!!!!</td>\n",
              "    </tr>\n",
              "    <tr>\n",
              "      <th>4</th>\n",
              "      <td>7168</td>\n",
              "      <td>0.0</td>\n",
              "      <td>오늘 밥 이상해요.. 딱딱해요</td>\n",
              "    </tr>\n",
              "    <tr>\n",
              "      <th>...</th>\n",
              "      <td>...</td>\n",
              "      <td>...</td>\n",
              "      <td>...</td>\n",
              "    </tr>\n",
              "    <tr>\n",
              "      <th>900</th>\n",
              "      <td>7208</td>\n",
              "      <td>0.0</td>\n",
              "      <td>명란소스 치킨가라아게 튀김옷이 바삭하지 않고 소스가 없습니다. 트러플향 감자튀김 트...</td>\n",
              "    </tr>\n",
              "    <tr>\n",
              "      <th>901</th>\n",
              "      <td>2376</td>\n",
              "      <td>1.0</td>\n",
              "      <td>맛있네요 정말 잘먹었습니다 진짜 맛있어서 소주가 술술~♡♡ ^^잘먹었어요~</td>\n",
              "    </tr>\n",
              "    <tr>\n",
              "      <th>902</th>\n",
              "      <td>6536</td>\n",
              "      <td>1.0</td>\n",
              "      <td>간장불고기 ㅈㅁㅌ 나머진soso</td>\n",
              "    </tr>\n",
              "    <tr>\n",
              "      <th>903</th>\n",
              "      <td>6012</td>\n",
              "      <td>1.0</td>\n",
              "      <td>역시 맛있는 원할머니 보쌈~~ 서비스로 주신 보쌈 일인분까지 먹으니까 양이 엄청 많...</td>\n",
              "    </tr>\n",
              "    <tr>\n",
              "      <th>904</th>\n",
              "      <td>6107</td>\n",
              "      <td>0.0</td>\n",
              "      <td>와..보쌈인데...너무하네요 배춧잎 큰거2장에 작은거 한장 쌈무4~5장.. 상추는 ...</td>\n",
              "    </tr>\n",
              "  </tbody>\n",
              "</table>\n",
              "<p>905 rows × 3 columns</p>\n",
              "</div>"
            ],
            "text/plain": [
              "     Unnamed: 0  taste                                    customer_review\n",
              "0          6192    1.0                                   맛있어요 번창하세요 최고입니다\n",
              "1          4832    0.0                                 맛없어요 돈아까워요. 비추천드려요\n",
              "2          7920    1.0         맛도 괜찮고 양도 적당합니다 근데 고기 살보다 기름이 더 많아서 아쉬웠습니다\n",
              "3          1510    1.0                            마시써요 ㅋㅋㅋㅋㅋ 잘먹엇어요!!!!!!!\n",
              "4          7168    0.0                                   오늘 밥 이상해요.. 딱딱해요\n",
              "..          ...    ...                                                ...\n",
              "900        7208    0.0  명란소스 치킨가라아게 튀김옷이 바삭하지 않고 소스가 없습니다. 트러플향 감자튀김 트...\n",
              "901        2376    1.0          맛있네요 정말 잘먹었습니다 진짜 맛있어서 소주가 술술~♡♡ ^^잘먹었어요~\n",
              "902        6536    1.0                                  간장불고기 ㅈㅁㅌ 나머진soso\n",
              "903        6012    1.0  역시 맛있는 원할머니 보쌈~~ 서비스로 주신 보쌈 일인분까지 먹으니까 양이 엄청 많...\n",
              "904        6107    0.0  와..보쌈인데...너무하네요 배춧잎 큰거2장에 작은거 한장 쌈무4~5장.. 상추는 ...\n",
              "\n",
              "[905 rows x 3 columns]"
            ]
          },
          "metadata": {
            "tags": []
          },
          "execution_count": 209
        }
      ]
    },
    {
      "cell_type": "markdown",
      "metadata": {
        "id": "rEI8YELHhh9o",
        "colab_type": "text"
      },
      "source": [
        "# test01"
      ]
    },
    {
      "cell_type": "code",
      "metadata": {
        "id": "DmtBOVEVeZAy",
        "colab_type": "code",
        "colab": {
          "base_uri": "https://localhost:8080/",
          "height": 207
        },
        "outputId": "7cbc007f-fcb7-4886-811a-5568f03db310"
      },
      "source": [
        "test01 = TestSet.iloc[0:10]['customer_review'].tolist()\n",
        "test01"
      ],
      "execution_count": 213,
      "outputs": [
        {
          "output_type": "execute_result",
          "data": {
            "text/plain": [
              "['맛있어요 번창하세요 최고입니다',\n",
              " '맛없어요 돈아까워요. 비추천드려요',\n",
              " '맛도 괜찮고 양도 적당합니다 근데 고기 살보다 기름이 더 많아서 아쉬웠습니다',\n",
              " '마시써요 ㅋㅋㅋㅋㅋ 잘먹엇어요!!!!!!!',\n",
              " '오늘 밥 이상해요.. 딱딱해요',\n",
              " '맛있습니다',\n",
              " '진짜좋아하는곳이고 배달도 빨리왔는데 달팽이가 나와서 다버렸어요...ㅠ',\n",
              " '내 살다 이렇게 개판은 처음이네 하 ㅋㅋㅋㅋㅋ 주문 20분뒤에 전화가옴. 재료가 떨어졌으니 앱으로 다시 주문하라고? 어~ 전화받자마자 바로 영업시간이 끝났네~ 받지도 않아서 한참 뒤에 다시 전화했는데, 다음날 환불될겁니다? 어~ 9일 지나도 환불안돼~ 사람 기다리게하고, 귀찮으니까 멋재로 주문취소하고, 돈은 환불해주기 싫다고?? 직화반상 요기요 직영이라는데 다신 요기요안쓴다 ㅋㅋㅋ 진짜 소비자 호구로 아는 쓰레기 서비스. 이 리뷰 지우기만해봐 아주 ㅋㅋㅋ',\n",
              " '진짜 최악임. 아구3등분해서 그냥 처넣어놨음 돈이 아깝다 진짜',\n",
              " '찌개는 괜찮은데 고기가좀']"
            ]
          },
          "metadata": {
            "tags": []
          },
          "execution_count": 213
        }
      ]
    },
    {
      "cell_type": "code",
      "metadata": {
        "scrolled": true,
        "id": "_0hQ-4wpMk5g",
        "colab_type": "code",
        "colab": {
          "base_uri": "https://localhost:8080/",
          "height": 170
        },
        "outputId": "3f925f58-321a-48d7-af57-8149697bd2e6"
      },
      "source": [
        "original = TestSet.iloc[0:10]['taste'].tolist()\n",
        "original_TasteScore = [int(x) for x in original]\n",
        "print(\"true : \", original_TasteScore)\n",
        "\n",
        "my_review = tfv.transform(test01)\n",
        "pred = grid_cv.best_estimator_.predict(my_review)\n",
        "print(\"pred : \", pred)\n",
        "\n",
        "error = []\n",
        "for i in range(10):\n",
        "  x = original_TasteScore[i]-pred[i]\n",
        "  error.append(int(x))\n",
        "print(\"error: \", error)\n",
        "\n",
        "print(\"\\n\")\n",
        "print(\"error 값이  1이면 리뷰에 긍정 레이블링인데, 컴퓨터가 부정으로 예측\")\n",
        "print(\"error 값이 -1이면 리뷰에 부정 레이블링인데, 컴퓨터가 긍정으로 예측\")\n",
        "print(\"error 값은 실제 리뷰를 보고 판단해보기\\n\")\n",
        "\n",
        "num = 0\n",
        "\n",
        "for i in range(len(error)):\n",
        "  if error[i] != 0:\n",
        "    print(\"error \", error[i], \" \", TestSet.iloc[i]['customer_review'])"
      ],
      "execution_count": 214,
      "outputs": [
        {
          "output_type": "stream",
          "text": [
            "true :  [1, 0, 1, 1, 0, 1, 0, 0, 0, 0]\n",
            "pred :  [1. 0. 1. 1. 0. 1. 0. 0. 0. 0.]\n",
            "error:  [0, 0, 0, 0, 0, 0, 0, 0, 0, 0]\n",
            "\n",
            "\n",
            "error 값이  1이면 리뷰에 긍정 레이블링인데, 컴퓨터가 부정으로 예측\n",
            "error 값이 -1이면 리뷰에 부정 레이블링인데, 컴퓨터가 긍정으로 예측\n",
            "error 값은 실제 리뷰를 보고 판단해보기\n",
            "\n"
          ],
          "name": "stdout"
        }
      ]
    },
    {
      "cell_type": "markdown",
      "metadata": {
        "id": "1vfsNIuy4SNt",
        "colab_type": "text"
      },
      "source": [
        ""
      ]
    },
    {
      "cell_type": "markdown",
      "metadata": {
        "id": "hzt6_uflhoU3",
        "colab_type": "text"
      },
      "source": [
        "# test02"
      ]
    },
    {
      "cell_type": "code",
      "metadata": {
        "id": "GxofrW8LMk5j",
        "colab_type": "code",
        "colab": {
          "base_uri": "https://localhost:8080/",
          "height": 207
        },
        "outputId": "4a444e0e-56ca-4ea9-de95-9546cb3789f8"
      },
      "source": [
        "test02 = TestSet.iloc[500:510]['customer_review'].tolist()\n",
        "test02"
      ],
      "execution_count": 216,
      "outputs": [
        {
          "output_type": "execute_result",
          "data": {
            "text/plain": [
              "['배달도 알림시간에 딱 맞춰 오셨구요. 보쌈 양도, 맛도, 적절하니 딱 맞았구요. 단지 비빔모밀이 떡이었구요 비빔장도 적었어요. ㅠ.ㅠ 가위로 잘게 잘라서 집에 있는 초고추장 더 넣어 비벼먹었답니다. ㅎ 다음엔 물모밀 시켜야겠어요~',\n",
              " '잘 먹었습니다~~~',\n",
              " '혹시 장조림 비빔밥에 짱아찌 상한거아닌가요.. 쉰내가 심하게 나요...',\n",
              " '맛있게 집에서 2차로 잘 먹었습니다',\n",
              " '다른 때와 달리 고기가 말랐고 돼지 특유의 냄새가 남',\n",
              " '맛은 여전히 맛있습니다!!배달도 빠르고요! 양이 뭔가 아쉬워요 ㅠ',\n",
              " '여태껏 이런적이 없었는데 오늘은 고기가 전반적으로 좀 질겼어요.. 담엔 좀더 신경써주셨음 해요ㅜㅜ',\n",
              " '배달시킨지 한시간이 넘었는데도 배달도 안오고 전화번호는 기재도 안되어 있고 요기요 서비스는 아예 닫아놨는데 뭘보고 리뷰를 쓰라는건지 모르겠네요',\n",
              " '사장님 해물찜에 간을못했나봐요 간이 하나도 안되어 있어요 아구찜은 맛있어요.',\n",
              " '맛있고 양이 정말 많아요. 근데 너무 매워요 ㅠ 매운맛을 조절할수 있으면 좋겠어요.']"
            ]
          },
          "metadata": {
            "tags": []
          },
          "execution_count": 216
        }
      ]
    },
    {
      "cell_type": "code",
      "metadata": {
        "id": "miYf7iAsiU6J",
        "colab_type": "code",
        "colab": {
          "base_uri": "https://localhost:8080/",
          "height": 187
        },
        "outputId": "01235788-b24e-47ca-f325-2aef61477fbf"
      },
      "source": [
        "original = TestSet.iloc[500:510]['taste'].tolist()\n",
        "original_TasteScore = [int(x) for x in original]\n",
        "print(\"true : \", original_TasteScore)\n",
        "\n",
        "my_review = tfv.transform(test02)\n",
        "pred = grid_cv.best_estimator_.predict(my_review)\n",
        "print(\"pred : \", pred)\n",
        "\n",
        "error = []\n",
        "for i in range(10):\n",
        "  x = original_TasteScore[i]-pred[i]\n",
        "  error.append(int(x))\n",
        "print(\"error: \", error)\n",
        "\n",
        "print(\"\\n\")\n",
        "print(\"error 값이  1이면 리뷰에 긍정 레이블링인데, 컴퓨터가 부정으로 예측\")\n",
        "print(\"error 값이 -1이면 리뷰에 부정 레이블링인데, 컴퓨터가 긍정으로 예측\")\n",
        "print(\"error 값은 실제 리뷰를 보고 판단해보기\\n\")\n",
        "\n",
        "num = 0\n",
        "\n",
        "for i in range(len(error)):\n",
        "  if error[i] != 0:\n",
        "    print(\"error \", error[i], \" \", TestSet.iloc[i]['customer_review'])"
      ],
      "execution_count": 217,
      "outputs": [
        {
          "output_type": "stream",
          "text": [
            "true :  [1, 1, 0, 1, 0, 1, 1, 0, 1, 1]\n",
            "pred :  [1. 1. 0. 1. 0. 1. 1. 0. 0. 1.]\n",
            "error:  [0, 0, 0, 0, 0, 0, 0, 0, 1, 0]\n",
            "\n",
            "\n",
            "error 값이  1이면 리뷰에 긍정 레이블링인데, 컴퓨터가 부정으로 예측\n",
            "error 값이 -1이면 리뷰에 부정 레이블링인데, 컴퓨터가 긍정으로 예측\n",
            "error 값은 실제 리뷰를 보고 판단해보기\n",
            "\n",
            "error  1   진짜 최악임. 아구3등분해서 그냥 처넣어놨음 돈이 아깝다 진짜\n"
          ],
          "name": "stdout"
        }
      ]
    },
    {
      "cell_type": "markdown",
      "metadata": {
        "id": "xzqiIkKNijHX",
        "colab_type": "text"
      },
      "source": [
        "# test03"
      ]
    },
    {
      "cell_type": "code",
      "metadata": {
        "id": "4OySxlGDietH",
        "colab_type": "code",
        "colab": {
          "base_uri": "https://localhost:8080/",
          "height": 187
        },
        "outputId": "60187fba-bcb4-4a7f-846a-beb8a4fbd2f5"
      },
      "source": [
        "test03 = TestSet.iloc[200:210]['customer_review'].tolist()\n",
        "test03"
      ],
      "execution_count": 218,
      "outputs": [
        {
          "output_type": "execute_result",
          "data": {
            "text/plain": [
              "['전에 다른곳시켜먹어봤는데 여기는 고기에 기름도별로없고 맛있네요~~^^',\n",
              " '잘 구워진 삼겹살과 버섯, 떡 그리고 마늘...그 위를 감싼 파채까지 정말 너무 마음에 듭니다. 국물과 탄산음료까지 정말 만족스러운 맛과 가격입니다.',\n",
              " '싱겁고(양념맛 따로 콩나물맛따로...) 꽃게는 살이 없어요..슬퍼요....새우튀김이 제일 맛있었어요...',\n",
              " '양 대비 터무니 없이 비싸네요',\n",
              " '뚜껑 열면서 마늘 칸에서 쪽파리 발견...',\n",
              " '배달시간 45분지나도안오네요 ㅡㅡ 요기요에서는 리뷰쓰라네요 배달오지도 않았는데 리뷰 쓰라해서 씁니다 배달 예정시간보다 느려요',\n",
              " '지난번시켰을때는 괜찬았는데..이번은 먼가바뀐느낌에 맛이 너무없너요..시킨걸 후회합니다..',\n",
              " '음...내입맛에는 아닌걸로~~',\n",
              " '라라라라라라라라라라',\n",
              " '축구보면서 먹는 직구삼은👍']"
            ]
          },
          "metadata": {
            "tags": []
          },
          "execution_count": 218
        }
      ]
    },
    {
      "cell_type": "code",
      "metadata": {
        "id": "CpUSJ4PKinlk",
        "colab_type": "code",
        "colab": {
          "base_uri": "https://localhost:8080/",
          "height": 221
        },
        "outputId": "9fe39b43-3409-4b5b-e98c-b14fcb6c8952"
      },
      "source": [
        "original = TestSet.iloc[200:210]['taste'].tolist()\n",
        "original_TasteScore = [int(x) for x in original]\n",
        "print(\"true : \", original_TasteScore)\n",
        "\n",
        "my_review = tfv.transform(test03)\n",
        "pred = grid_cv.best_estimator_.predict(my_review)\n",
        "print(\"pred : \", pred)\n",
        "\n",
        "error = []\n",
        "for i in range(10):\n",
        "  x = original_TasteScore[i]-pred[i]\n",
        "  error.append(int(x))\n",
        "print(\"error: \", error)\n",
        "\n",
        "print(\"\\n\")\n",
        "print(\"error 값이  1이면 리뷰에 긍정 레이블링인데, 컴퓨터가 부정으로 예측\")\n",
        "print(\"error 값이 -1이면 리뷰에 부정 레이블링인데, 컴퓨터가 긍정으로 예측\")\n",
        "print(\"error 값은 실제 리뷰를 보고 판단해보기\\n\")\n",
        "\n",
        "num = 0\n",
        "\n",
        "for i in range(len(error)):\n",
        "  if error[i] != 0:\n",
        "    print(\"error \", error[i], \" \", TestSet.iloc[i]['customer_review'])"
      ],
      "execution_count": 219,
      "outputs": [
        {
          "output_type": "stream",
          "text": [
            "true :  [1, 1, 0, 0, 0, 0, 0, 0, 0, 1]\n",
            "pred :  [0. 1. 0. 1. 0. 0. 0. 0. 1. 1.]\n",
            "error:  [1, 0, 0, -1, 0, 0, 0, 0, -1, 0]\n",
            "\n",
            "\n",
            "error 값이  1이면 리뷰에 긍정 레이블링인데, 컴퓨터가 부정으로 예측\n",
            "error 값이 -1이면 리뷰에 부정 레이블링인데, 컴퓨터가 긍정으로 예측\n",
            "error 값은 실제 리뷰를 보고 판단해보기\n",
            "\n",
            "error  1   맛있어요 번창하세요 최고입니다\n",
            "error  -1   마시써요 ㅋㅋㅋㅋㅋ 잘먹엇어요!!!!!!!\n",
            "error  -1   진짜 최악임. 아구3등분해서 그냥 처넣어놨음 돈이 아깝다 진짜\n"
          ],
          "name": "stdout"
        }
      ]
    },
    {
      "cell_type": "markdown",
      "metadata": {
        "id": "VedEPFNLtyEa",
        "colab_type": "text"
      },
      "source": [
        "# "
      ]
    },
    {
      "cell_type": "markdown",
      "metadata": {
        "id": "qXXJTAswGbuG",
        "colab_type": "text"
      },
      "source": [
        "# 실제 프로젝트 사용 파일 출력용\n"
      ]
    },
    {
      "cell_type": "code",
      "metadata": {
        "id": "tS2_6qWsJwaQ",
        "colab_type": "code",
        "colab": {
          "base_uri": "https://localhost:8080/",
          "height": 85
        },
        "outputId": "52a4f0d1-88f9-40cf-d3cb-0411dc5bd7ec"
      },
      "source": [
        "restaurnat_list = ['본설렁탕&냉면-신림난곡점', '직화반상by셰플리(관악)', '청년치킨-신림점', '후라이드참잘하는집-독산점' ]\n",
        "\n",
        "for i in restaurnat_list:\n",
        "\n",
        "  path = '/content/drive/My Drive/Colab Notebooks/3rd Project/3rd_Project_Data/this/'+ i +'TasteScore_Test.csv'\n",
        "  df = pd.read_csv(path, encoding='utf-16')\n",
        "  test = df['customer_review'].tolist()\n",
        "\n",
        "  review = tfv.transform(test)\n",
        "  pred = grid_cv.best_estimator_.predict(review)\n",
        "  pred = pred.tolist()\n",
        "\n",
        "  df_TrainSet = pd.DataFrame(pred, test)\n",
        "  df_TrainSet.to_csv('/content/drive/My Drive/Colab Notebooks/3rd Project/3rd_Project_Data/this/' + i + 'TasteScore_pred.csv', encoding='utf-16')\n",
        "\n",
        "  # 총 댓글 수 / 0 갯수 / 1 갯수 / 0 퍼센트 / 1 퍼센트\n",
        "\n",
        "  total_review = len(df)\n",
        "  neg_num = pred.count(0)\n",
        "  pos_num = pred.count(1)\n",
        "  neg_per = math.floor(pred.count(0)/len(df)*100)\n",
        "  pos_per = math.floor(pred.count(1)/len(df)*100)\n",
        "  print(total_review, neg_num, pos_num, neg_per, pos_per)"
      ],
      "execution_count": 242,
      "outputs": [
        {
          "output_type": "stream",
          "text": [
            "2034 213 1821 10 89\n",
            "2663 478 2185 17 82\n",
            "1058 47 1011 4 95\n",
            "1404 115 1289 8 91\n"
          ],
          "name": "stdout"
        }
      ]
    },
    {
      "cell_type": "markdown",
      "metadata": {
        "id": "vq9EZFFQK2PR",
        "colab_type": "text"
      },
      "source": [
        "# 수동 체크용"
      ]
    },
    {
      "cell_type": "code",
      "metadata": {
        "id": "PRwCMd7ciwCv",
        "colab_type": "code",
        "colab": {}
      },
      "source": [
        "\n",
        "\n",
        "path01 = '/content/drive/My Drive/Colab Notebooks/3rd Project/3rd_Project_Data/this/본설렁탕&냉면-신림난곡점TasteScore_Test.csv'\n",
        "path01 = '/content/drive/My Drive/Colab Notebooks/3rd Project/3rd_Project_Data/this/직화반상by셰플리(관악)TasteScore_Test.csv'\n",
        "path01 = '/content/drive/My Drive/Colab Notebooks/3rd Project/3rd_Project_Data/this/청년치킨-신림점TasteScore_Test.csv'\n",
        "path01 = '/content/drive/My Drive/Colab Notebooks/3rd Project/3rd_Project_Data/this/후라이드참잘하는집-독산점TasteScore_Test.csv'\n",
        "\n",
        "df01 = pd.read_csv(path01, encoding='utf-16')\n",
        "df02 = pd.read_csv(path02, encoding='utf-16')\n",
        "df03 = pd.read_csv(path03, encoding='utf-16')\n",
        "df04 = pd.read_csv(path04, encoding='utf-16')"
      ],
      "execution_count": 229,
      "outputs": []
    },
    {
      "cell_type": "code",
      "metadata": {
        "id": "7t4Di6sxtwvG",
        "colab_type": "code",
        "colab": {}
      },
      "source": [
        "test01 = df01['customer_review'].tolist()\n",
        "\n",
        "my_review01 = tfv.transform(test01)\n",
        "pred01 = grid_cv.best_estimator_.predict(my_review01)\n",
        "pred01 = pred01.tolist()"
      ],
      "execution_count": 148,
      "outputs": []
    },
    {
      "cell_type": "code",
      "metadata": {
        "id": "SF88w8Q_vs6F",
        "colab_type": "code",
        "colab": {}
      },
      "source": [
        "test02 = df02['customer_review'].tolist()\n",
        "\n",
        "my_review02 = tfv.transform(test02)\n",
        "pred02 = grid_cv.best_estimator_.predict(my_review02)\n",
        "pred02 = pred02.tolist()"
      ],
      "execution_count": 149,
      "outputs": []
    },
    {
      "cell_type": "code",
      "metadata": {
        "id": "Olv4uAQpvyCn",
        "colab_type": "code",
        "colab": {}
      },
      "source": [
        "test03 = df03['customer_review'].tolist()\n",
        "\n",
        "my_review03 = tfv.transform(test03)\n",
        "pred03 = grid_cv.best_estimator_.predict(my_review03)\n",
        "pred03 = pred03.tolist()"
      ],
      "execution_count": 150,
      "outputs": []
    },
    {
      "cell_type": "code",
      "metadata": {
        "id": "64XHDbCyvyfe",
        "colab_type": "code",
        "colab": {}
      },
      "source": [
        "test04 = df04['customer_review'].tolist()\n",
        "\n",
        "my_review04 = tfv.transform(test04)\n",
        "pred04 = grid_cv.best_estimator_.predict(my_review04)\n",
        "pred04 = pred04.tolist()"
      ],
      "execution_count": 151,
      "outputs": []
    },
    {
      "cell_type": "code",
      "metadata": {
        "id": "7tR3A7DPv5iP",
        "colab_type": "code",
        "colab": {}
      },
      "source": [
        "df_TrainSet = pd.DataFrame(pred01, test01)\n",
        "df_TrainSet.to_csv('/content/drive/My Drive/Colab Notebooks/3rd Project/3rd_Project_Data/this/본설렁탕&냉면-신림난곡점TasteScore_pred.csv', encoding='utf-16')"
      ],
      "execution_count": 157,
      "outputs": []
    },
    {
      "cell_type": "code",
      "metadata": {
        "id": "D8uIzs4AwBze",
        "colab_type": "code",
        "colab": {}
      },
      "source": [
        "df_TrainSet = pd.DataFrame(pred02, test02)\n",
        "df_TrainSet.to_csv('/content/drive/My Drive/Colab Notebooks/3rd Project/3rd_Project_Data/this/직화반상by셰플리(관악)TasteScore_pred.csv', encoding='utf-16')"
      ],
      "execution_count": 158,
      "outputs": []
    },
    {
      "cell_type": "code",
      "metadata": {
        "id": "YMPXogImwh9T",
        "colab_type": "code",
        "colab": {}
      },
      "source": [
        "df_TrainSet = pd.DataFrame(pred03, test03)\n",
        "df_TrainSet.to_csv('/content/drive/My Drive/Colab Notebooks/3rd Project/3rd_Project_Data/this/청년치킨-신림점TasteScore_pred.csv', encoding='utf-16')"
      ],
      "execution_count": 159,
      "outputs": []
    },
    {
      "cell_type": "code",
      "metadata": {
        "id": "bd8G_psmwiU9",
        "colab_type": "code",
        "colab": {}
      },
      "source": [
        "df_TrainSet = pd.DataFrame(pred04, test04)\n",
        "df_TrainSet.to_csv('/content/drive/My Drive/Colab Notebooks/3rd Project/3rd_Project_Data/this/후라이드참잘하는집-독산점TasteScore_pred.csv', encoding='utf-16')"
      ],
      "execution_count": 160,
      "outputs": []
    },
    {
      "cell_type": "code",
      "metadata": {
        "id": "b6QkYnmb16wY",
        "colab_type": "code",
        "colab": {}
      },
      "source": [
        "# 총 댓글 수 / 0 갯수 / 1 갯수 / 0 퍼센트 / 1 퍼센트\n",
        "\n",
        "total_review = len(df01)\n",
        "neg_num = pred01.count(0)\n",
        "pos_num = pred01.count(1)\n",
        "neg_per = math.floor(pred01.count(0)/len(df01)*100)\n",
        "pos_per = math.floor(pred01.count(1)/len(df01)*100)"
      ],
      "execution_count": 175,
      "outputs": []
    },
    {
      "cell_type": "code",
      "metadata": {
        "id": "13eZgFBa5cj9",
        "colab_type": "code",
        "colab": {
          "base_uri": "https://localhost:8080/",
          "height": 34
        },
        "outputId": "f9044de8-beaf-4701-8d6d-52df1c62c958"
      },
      "source": [
        "print(total_review, neg_num, pos_num, neg_per, pos_per)"
      ],
      "execution_count": 176,
      "outputs": [
        {
          "output_type": "stream",
          "text": [
            "2034 227 1807 11 88\n"
          ],
          "name": "stdout"
        }
      ]
    },
    {
      "cell_type": "code",
      "metadata": {
        "id": "uCLXjlQI6HEh",
        "colab_type": "code",
        "colab": {}
      },
      "source": [
        ""
      ],
      "execution_count": null,
      "outputs": []
    }
  ]
}