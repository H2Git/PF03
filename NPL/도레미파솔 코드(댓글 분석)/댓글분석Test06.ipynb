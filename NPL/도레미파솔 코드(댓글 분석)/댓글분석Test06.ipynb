{
  "nbformat": 4,
  "nbformat_minor": 0,
  "metadata": {
    "kernelspec": {
      "display_name": "Python 3",
      "language": "python",
      "name": "python3"
    },
    "language_info": {
      "codemirror_mode": {
        "name": "ipython",
        "version": 3
      },
      "file_extension": ".py",
      "mimetype": "text/x-python",
      "name": "python",
      "nbconvert_exporter": "python",
      "pygments_lexer": "ipython3",
      "version": "3.6.10"
    },
    "colab": {
      "name": "댓글분석Test06.ipynb",
      "provenance": [],
      "collapsed_sections": [],
      "machine_shape": "hm"
    },
    "accelerator": "TPU"
  },
  "cells": [
    {
      "cell_type": "code",
      "metadata": {
        "id": "KyJotzslMk4Z",
        "colab_type": "code",
        "colab": {}
      },
      "source": [
        "from tensorflow.keras import Sequential\n",
        "from tensorflow.keras.datasets import reuters\n",
        "import numpy as np\n",
        "import pandas as pd \n",
        "import matplotlib.pyplot as plt\n",
        "from tensorflow.keras.layers import Dense, LSTM\n",
        "from tensorflow.keras.preprocessing.text import Tokenizer"
      ],
      "execution_count": 1,
      "outputs": []
    },
    {
      "cell_type": "markdown",
      "metadata": {
        "id": "WX-tLB9xMk4d",
        "colab_type": "text"
      },
      "source": [
        "# 파일 불러오기"
      ]
    },
    {
      "cell_type": "code",
      "metadata": {
        "id": "xW8rRRnAMk4e",
        "colab_type": "code",
        "colab": {}
      },
      "source": [
        "# 쥬피터용\n",
        "# 데이터 셋 posneg.xlsx\n",
        "# df = pd.read_csv('./도레미파솔 3차 크롤링/마지막 학습용 데이터/taste_df.csv', encoding='utf-16')"
      ],
      "execution_count": 2,
      "outputs": []
    },
    {
      "cell_type": "code",
      "metadata": {
        "id": "Qq146RqsNBwe",
        "colab_type": "code",
        "colab": {
          "base_uri": "https://localhost:8080/",
          "height": 34
        },
        "outputId": "69dd0c87-c61a-4d3f-cc3d-b357af6b5c54"
      },
      "source": [
        "from google.colab import drive\n",
        "drive.mount('/content/drive')"
      ],
      "execution_count": 3,
      "outputs": [
        {
          "output_type": "stream",
          "text": [
            "Mounted at /content/drive\n"
          ],
          "name": "stdout"
        }
      ]
    },
    {
      "cell_type": "code",
      "metadata": {
        "id": "Ug6ys9cgNYck",
        "colab_type": "code",
        "colab": {
          "base_uri": "https://localhost:8080/",
          "height": 419
        },
        "outputId": "9c94bb23-3ded-4823-b192-1f4e1a1c30ab"
      },
      "source": [
        "df = pd.read_csv('drive/My Drive/Colab Notebooks/3rd Project/3rd_Project_Data/taste_TrainData.csv', encoding='utf-16')\n",
        "df"
      ],
      "execution_count": 7,
      "outputs": [
        {
          "output_type": "execute_result",
          "data": {
            "text/html": [
              "<div>\n",
              "<style scoped>\n",
              "    .dataframe tbody tr th:only-of-type {\n",
              "        vertical-align: middle;\n",
              "    }\n",
              "\n",
              "    .dataframe tbody tr th {\n",
              "        vertical-align: top;\n",
              "    }\n",
              "\n",
              "    .dataframe thead th {\n",
              "        text-align: right;\n",
              "    }\n",
              "</style>\n",
              "<table border=\"1\" class=\"dataframe\">\n",
              "  <thead>\n",
              "    <tr style=\"text-align: right;\">\n",
              "      <th></th>\n",
              "      <th>Unnamed: 0</th>\n",
              "      <th>taste</th>\n",
              "      <th>customer_review</th>\n",
              "    </tr>\n",
              "  </thead>\n",
              "  <tbody>\n",
              "    <tr>\n",
              "      <th>0</th>\n",
              "      <td>14</td>\n",
              "      <td>0.0</td>\n",
              "      <td>2인분 시켜서 반찬 좀 2명 분 달랬더니 매번 하나만 챙겨주네, 짜증</td>\n",
              "    </tr>\n",
              "    <tr>\n",
              "      <th>1</th>\n",
              "      <td>52</td>\n",
              "      <td>0.0</td>\n",
              "      <td>커피도 반만 들어있고ㅠ음식도 성의없어서 이젠 주문안하고 싶네요ㅠ</td>\n",
              "    </tr>\n",
              "    <tr>\n",
              "      <th>2</th>\n",
              "      <td>54</td>\n",
              "      <td>0.0</td>\n",
              "      <td>된장찌개와 돼지구이 쌈밥을 시켰습니다 예상도착시간이 되도 아무 연락이 없어 가게에 ...</td>\n",
              "    </tr>\n",
              "    <tr>\n",
              "      <th>3</th>\n",
              "      <td>96</td>\n",
              "      <td>0.0</td>\n",
              "      <td>요청사항은 안보시나봐요..ㅡ 사이다 시켰는데 콜라로 오고. 주문사항이랑 요청사항 확...</td>\n",
              "    </tr>\n",
              "    <tr>\n",
              "      <th>4</th>\n",
              "      <td>97</td>\n",
              "      <td>0.0</td>\n",
              "      <td>김치찌개가 부대찌개도아니고 상한맛같앗어요 다른건 다 맛잇었는데 신뢰가 확..ㅜ 작년...</td>\n",
              "    </tr>\n",
              "    <tr>\n",
              "      <th>...</th>\n",
              "      <td>...</td>\n",
              "      <td>...</td>\n",
              "      <td>...</td>\n",
              "    </tr>\n",
              "    <tr>\n",
              "      <th>471237</th>\n",
              "      <td>537917</td>\n",
              "      <td>1.0</td>\n",
              "      <td>양은 역시 많습니다 ~ 항상 남기네요 ~</td>\n",
              "    </tr>\n",
              "    <tr>\n",
              "      <th>471238</th>\n",
              "      <td>537919</td>\n",
              "      <td>1.0</td>\n",
              "      <td>배달도 빠르고 친절하고 맛있어요! 요즘 보쌈이나 족발 배달시켜먹으면 너무 비싼데, ...</td>\n",
              "    </tr>\n",
              "    <tr>\n",
              "      <th>471239</th>\n",
              "      <td>537920</td>\n",
              "      <td>1.0</td>\n",
              "      <td>자주시켜먹는곳입니다</td>\n",
              "    </tr>\n",
              "    <tr>\n",
              "      <th>471240</th>\n",
              "      <td>537921</td>\n",
              "      <td>1.0</td>\n",
              "      <td>이건 강추~ 다만 양이 넘 많이서 3병이서 먹엇는데도 많이 남앗습니다 ~ 막국수가 ...</td>\n",
              "    </tr>\n",
              "    <tr>\n",
              "      <th>471241</th>\n",
              "      <td>537923</td>\n",
              "      <td>1.0</td>\n",
              "      <td>ggggggggggg</td>\n",
              "    </tr>\n",
              "  </tbody>\n",
              "</table>\n",
              "<p>471242 rows × 3 columns</p>\n",
              "</div>"
            ],
            "text/plain": [
              "        Unnamed: 0  taste                                    customer_review\n",
              "0               14    0.0             2인분 시켜서 반찬 좀 2명 분 달랬더니 매번 하나만 챙겨주네, 짜증\n",
              "1               52    0.0                커피도 반만 들어있고ㅠ음식도 성의없어서 이젠 주문안하고 싶네요ㅠ\n",
              "2               54    0.0  된장찌개와 돼지구이 쌈밥을 시켰습니다 예상도착시간이 되도 아무 연락이 없어 가게에 ...\n",
              "3               96    0.0  요청사항은 안보시나봐요..ㅡ 사이다 시켰는데 콜라로 오고. 주문사항이랑 요청사항 확...\n",
              "4               97    0.0  김치찌개가 부대찌개도아니고 상한맛같앗어요 다른건 다 맛잇었는데 신뢰가 확..ㅜ 작년...\n",
              "...            ...    ...                                                ...\n",
              "471237      537917    1.0                             양은 역시 많습니다 ~ 항상 남기네요 ~\n",
              "471238      537919    1.0  배달도 빠르고 친절하고 맛있어요! 요즘 보쌈이나 족발 배달시켜먹으면 너무 비싼데, ...\n",
              "471239      537920    1.0                                         자주시켜먹는곳입니다\n",
              "471240      537921    1.0  이건 강추~ 다만 양이 넘 많이서 3병이서 먹엇는데도 많이 남앗습니다 ~ 막국수가 ...\n",
              "471241      537923    1.0                                        ggggggggggg\n",
              "\n",
              "[471242 rows x 3 columns]"
            ]
          },
          "metadata": {
            "tags": []
          },
          "execution_count": 7
        }
      ]
    },
    {
      "cell_type": "code",
      "metadata": {
        "id": "FWUEMmv9Mk4g",
        "colab_type": "code",
        "colab": {
          "base_uri": "https://localhost:8080/",
          "height": 34
        },
        "outputId": "6cfe07c1-6b4d-4167-d682-34009869b8e6"
      },
      "source": [
        "df.columns"
      ],
      "execution_count": 8,
      "outputs": [
        {
          "output_type": "execute_result",
          "data": {
            "text/plain": [
              "Index(['Unnamed: 0', 'taste', 'customer_review'], dtype='object')"
            ]
          },
          "metadata": {
            "tags": []
          },
          "execution_count": 8
        }
      ]
    },
    {
      "cell_type": "code",
      "metadata": {
        "id": "yeqTSG7NMk4j",
        "colab_type": "code",
        "colab": {
          "base_uri": "https://localhost:8080/",
          "height": 204
        },
        "outputId": "df0ff728-57e6-453d-a90a-9cabc15817a6"
      },
      "source": [
        "df.head(5)"
      ],
      "execution_count": 9,
      "outputs": [
        {
          "output_type": "execute_result",
          "data": {
            "text/html": [
              "<div>\n",
              "<style scoped>\n",
              "    .dataframe tbody tr th:only-of-type {\n",
              "        vertical-align: middle;\n",
              "    }\n",
              "\n",
              "    .dataframe tbody tr th {\n",
              "        vertical-align: top;\n",
              "    }\n",
              "\n",
              "    .dataframe thead th {\n",
              "        text-align: right;\n",
              "    }\n",
              "</style>\n",
              "<table border=\"1\" class=\"dataframe\">\n",
              "  <thead>\n",
              "    <tr style=\"text-align: right;\">\n",
              "      <th></th>\n",
              "      <th>Unnamed: 0</th>\n",
              "      <th>taste</th>\n",
              "      <th>customer_review</th>\n",
              "    </tr>\n",
              "  </thead>\n",
              "  <tbody>\n",
              "    <tr>\n",
              "      <th>0</th>\n",
              "      <td>14</td>\n",
              "      <td>0.0</td>\n",
              "      <td>2인분 시켜서 반찬 좀 2명 분 달랬더니 매번 하나만 챙겨주네, 짜증</td>\n",
              "    </tr>\n",
              "    <tr>\n",
              "      <th>1</th>\n",
              "      <td>52</td>\n",
              "      <td>0.0</td>\n",
              "      <td>커피도 반만 들어있고ㅠ음식도 성의없어서 이젠 주문안하고 싶네요ㅠ</td>\n",
              "    </tr>\n",
              "    <tr>\n",
              "      <th>2</th>\n",
              "      <td>54</td>\n",
              "      <td>0.0</td>\n",
              "      <td>된장찌개와 돼지구이 쌈밥을 시켰습니다 예상도착시간이 되도 아무 연락이 없어 가게에 ...</td>\n",
              "    </tr>\n",
              "    <tr>\n",
              "      <th>3</th>\n",
              "      <td>96</td>\n",
              "      <td>0.0</td>\n",
              "      <td>요청사항은 안보시나봐요..ㅡ 사이다 시켰는데 콜라로 오고. 주문사항이랑 요청사항 확...</td>\n",
              "    </tr>\n",
              "    <tr>\n",
              "      <th>4</th>\n",
              "      <td>97</td>\n",
              "      <td>0.0</td>\n",
              "      <td>김치찌개가 부대찌개도아니고 상한맛같앗어요 다른건 다 맛잇었는데 신뢰가 확..ㅜ 작년...</td>\n",
              "    </tr>\n",
              "  </tbody>\n",
              "</table>\n",
              "</div>"
            ],
            "text/plain": [
              "   Unnamed: 0  taste                                    customer_review\n",
              "0          14    0.0             2인분 시켜서 반찬 좀 2명 분 달랬더니 매번 하나만 챙겨주네, 짜증\n",
              "1          52    0.0                커피도 반만 들어있고ㅠ음식도 성의없어서 이젠 주문안하고 싶네요ㅠ\n",
              "2          54    0.0  된장찌개와 돼지구이 쌈밥을 시켰습니다 예상도착시간이 되도 아무 연락이 없어 가게에 ...\n",
              "3          96    0.0  요청사항은 안보시나봐요..ㅡ 사이다 시켰는데 콜라로 오고. 주문사항이랑 요청사항 확...\n",
              "4          97    0.0  김치찌개가 부대찌개도아니고 상한맛같앗어요 다른건 다 맛잇었는데 신뢰가 확..ㅜ 작년..."
            ]
          },
          "metadata": {
            "tags": []
          },
          "execution_count": 9
        }
      ]
    },
    {
      "cell_type": "code",
      "metadata": {
        "id": "kRva-fowMk4m",
        "colab_type": "code",
        "colab": {
          "base_uri": "https://localhost:8080/",
          "height": 34
        },
        "outputId": "99849d9e-3736-4dcc-afed-2d7fa8b7a1af"
      },
      "source": [
        "len(df)"
      ],
      "execution_count": 10,
      "outputs": [
        {
          "output_type": "execute_result",
          "data": {
            "text/plain": [
              "471242"
            ]
          },
          "metadata": {
            "tags": []
          },
          "execution_count": 10
        }
      ]
    },
    {
      "cell_type": "code",
      "metadata": {
        "id": "ZBXh3nGPMk4p",
        "colab_type": "code",
        "colab": {
          "base_uri": "https://localhost:8080/",
          "height": 34
        },
        "outputId": "03acb042-bc78-4fe4-96f3-a3bb61807549"
      },
      "source": [
        "neg_test = df[df['taste']==0]\n",
        "len(neg_test)"
      ],
      "execution_count": 11,
      "outputs": [
        {
          "output_type": "execute_result",
          "data": {
            "text/plain": [
              "21436"
            ]
          },
          "metadata": {
            "tags": []
          },
          "execution_count": 11
        }
      ]
    },
    {
      "cell_type": "code",
      "metadata": {
        "id": "1cYLFjzPMk4r",
        "colab_type": "code",
        "colab": {
          "base_uri": "https://localhost:8080/",
          "height": 34
        },
        "outputId": "0eb498a2-7f16-4552-fb79-3d0f749d59a2"
      },
      "source": [
        "pos_test = df[df['taste']==1]\n",
        "len(pos_test)"
      ],
      "execution_count": 12,
      "outputs": [
        {
          "output_type": "execute_result",
          "data": {
            "text/plain": [
              "449806"
            ]
          },
          "metadata": {
            "tags": []
          },
          "execution_count": 12
        }
      ]
    },
    {
      "cell_type": "code",
      "metadata": {
        "id": "9SeaBvWam3Db",
        "colab_type": "code",
        "colab": {
          "base_uri": "https://localhost:8080/",
          "height": 34
        },
        "outputId": "5902abfc-ac2c-4e92-d34d-f97a38269ce9"
      },
      "source": [
        "pos_test = pos_test.sample(n=30000).reset_index(drop=True)\n",
        "len(pos_test)"
      ],
      "execution_count": 15,
      "outputs": [
        {
          "output_type": "execute_result",
          "data": {
            "text/plain": [
              "30000"
            ]
          },
          "metadata": {
            "tags": []
          },
          "execution_count": 15
        }
      ]
    },
    {
      "cell_type": "code",
      "metadata": {
        "id": "aE2uICOonXmy",
        "colab_type": "code",
        "colab": {
          "base_uri": "https://localhost:8080/",
          "height": 34
        },
        "outputId": "a58ff9d9-e29d-4ae5-fcc5-9828a3421aa8"
      },
      "source": [
        "df_TrainSet = pd.concat([pos_test,neg_test])\n",
        "len(df_TrainSet)"
      ],
      "execution_count": 18,
      "outputs": [
        {
          "output_type": "execute_result",
          "data": {
            "text/plain": [
              "51436"
            ]
          },
          "metadata": {
            "tags": []
          },
          "execution_count": 18
        }
      ]
    },
    {
      "cell_type": "code",
      "metadata": {
        "id": "Y-YK6pmPMk4u",
        "colab_type": "code",
        "colab": {
          "base_uri": "https://localhost:8080/",
          "height": 419
        },
        "outputId": "f593be15-61ee-402b-f786-50ffe3ddf1e9"
      },
      "source": [
        "df_TrainSet = df_TrainSet.sample(frac=1).reset_index(drop=True)\n",
        "df_TrainSet"
      ],
      "execution_count": 20,
      "outputs": [
        {
          "output_type": "execute_result",
          "data": {
            "text/html": [
              "<div>\n",
              "<style scoped>\n",
              "    .dataframe tbody tr th:only-of-type {\n",
              "        vertical-align: middle;\n",
              "    }\n",
              "\n",
              "    .dataframe tbody tr th {\n",
              "        vertical-align: top;\n",
              "    }\n",
              "\n",
              "    .dataframe thead th {\n",
              "        text-align: right;\n",
              "    }\n",
              "</style>\n",
              "<table border=\"1\" class=\"dataframe\">\n",
              "  <thead>\n",
              "    <tr style=\"text-align: right;\">\n",
              "      <th></th>\n",
              "      <th>Unnamed: 0</th>\n",
              "      <th>taste</th>\n",
              "      <th>customer_review</th>\n",
              "    </tr>\n",
              "  </thead>\n",
              "  <tbody>\n",
              "    <tr>\n",
              "      <th>0</th>\n",
              "      <td>479676</td>\n",
              "      <td>0.0</td>\n",
              "      <td>다 식어서 왔습니다. 푸라닭 조금 실망입니다. 배달 예상 시간 10분 이상 늦은 건...</td>\n",
              "    </tr>\n",
              "    <tr>\n",
              "      <th>1</th>\n",
              "      <td>284610</td>\n",
              "      <td>1.0</td>\n",
              "      <td>밥이 좀 질어진 것 빼고 괜찮았어요</td>\n",
              "    </tr>\n",
              "    <tr>\n",
              "      <th>2</th>\n",
              "      <td>288931</td>\n",
              "      <td>0.0</td>\n",
              "      <td>짬뽕맛이 아니에요 너무기름지고 아쉽네요ㅠㅠ</td>\n",
              "    </tr>\n",
              "    <tr>\n",
              "      <th>3</th>\n",
              "      <td>141287</td>\n",
              "      <td>1.0</td>\n",
              "      <td>바쁘실텐데 빨리 갖다주셔서 감사합니다~</td>\n",
              "    </tr>\n",
              "    <tr>\n",
              "      <th>4</th>\n",
              "      <td>473692</td>\n",
              "      <td>0.0</td>\n",
              "      <td>배달은 빠르지만 치킨은 식어있을땨가 많아요 미니스톱 치킨드세요</td>\n",
              "    </tr>\n",
              "    <tr>\n",
              "      <th>...</th>\n",
              "      <td>...</td>\n",
              "      <td>...</td>\n",
              "      <td>...</td>\n",
              "    </tr>\n",
              "    <tr>\n",
              "      <th>51431</th>\n",
              "      <td>78988</td>\n",
              "      <td>1.0</td>\n",
              "      <td>이게 뭐라고 며칠째 시켜대는 중</td>\n",
              "    </tr>\n",
              "    <tr>\n",
              "      <th>51432</th>\n",
              "      <td>419843</td>\n",
              "      <td>0.0</td>\n",
              "      <td>여기 만두는 냉동 만두에 북어국 당근이우동에두 있고 복어국 육수랑 우동 육수가 같은...</td>\n",
              "    </tr>\n",
              "    <tr>\n",
              "      <th>51433</th>\n",
              "      <td>288637</td>\n",
              "      <td>1.0</td>\n",
              "      <td>맛있어요 초밥 괜찮네용</td>\n",
              "    </tr>\n",
              "    <tr>\n",
              "      <th>51434</th>\n",
              "      <td>301101</td>\n",
              "      <td>0.0</td>\n",
              "      <td>떡뽁이도 그냥그렇고 김밥은 딱딱하고 비추</td>\n",
              "    </tr>\n",
              "    <tr>\n",
              "      <th>51435</th>\n",
              "      <td>161848</td>\n",
              "      <td>1.0</td>\n",
              "      <td>수고하셨습니다~（＾◇＾）</td>\n",
              "    </tr>\n",
              "  </tbody>\n",
              "</table>\n",
              "<p>51436 rows × 3 columns</p>\n",
              "</div>"
            ],
            "text/plain": [
              "       Unnamed: 0  taste                                    customer_review\n",
              "0          479676    0.0  다 식어서 왔습니다. 푸라닭 조금 실망입니다. 배달 예상 시간 10분 이상 늦은 건...\n",
              "1          284610    1.0                                밥이 좀 질어진 것 빼고 괜찮았어요\n",
              "2          288931    0.0                            짬뽕맛이 아니에요 너무기름지고 아쉽네요ㅠㅠ\n",
              "3          141287    1.0                              바쁘실텐데 빨리 갖다주셔서 감사합니다~\n",
              "4          473692    0.0                 배달은 빠르지만 치킨은 식어있을땨가 많아요 미니스톱 치킨드세요\n",
              "...           ...    ...                                                ...\n",
              "51431       78988    1.0                                  이게 뭐라고 며칠째 시켜대는 중\n",
              "51432      419843    0.0  여기 만두는 냉동 만두에 북어국 당근이우동에두 있고 복어국 육수랑 우동 육수가 같은...\n",
              "51433      288637    1.0                                       맛있어요 초밥 괜찮네용\n",
              "51434      301101    0.0                             떡뽁이도 그냥그렇고 김밥은 딱딱하고 비추\n",
              "51435      161848    1.0                                      수고하셨습니다~（＾◇＾）\n",
              "\n",
              "[51436 rows x 3 columns]"
            ]
          },
          "metadata": {
            "tags": []
          },
          "execution_count": 20
        }
      ]
    },
    {
      "cell_type": "code",
      "metadata": {
        "id": "4t3U7_MzMk4x",
        "colab_type": "code",
        "colab": {}
      },
      "source": [
        "X = df_TrainSet['customer_review']"
      ],
      "execution_count": 21,
      "outputs": []
    },
    {
      "cell_type": "code",
      "metadata": {
        "id": "qK5R3RosMk4z",
        "colab_type": "code",
        "colab": {}
      },
      "source": [
        "y = df_TrainSet['taste']"
      ],
      "execution_count": 22,
      "outputs": []
    },
    {
      "cell_type": "code",
      "metadata": {
        "scrolled": true,
        "id": "IJOKEsTSMk41",
        "colab_type": "code",
        "colab": {
          "base_uri": "https://localhost:8080/",
          "height": 221
        },
        "outputId": "d498da5c-4c61-4016-bba2-38a3e92d51ec"
      },
      "source": [
        "X"
      ],
      "execution_count": 23,
      "outputs": [
        {
          "output_type": "execute_result",
          "data": {
            "text/plain": [
              "0        다 식어서 왔습니다. 푸라닭 조금 실망입니다. 배달 예상 시간 10분 이상 늦은 건...\n",
              "1                                      밥이 좀 질어진 것 빼고 괜찮았어요\n",
              "2                                  짬뽕맛이 아니에요 너무기름지고 아쉽네요ㅠㅠ\n",
              "3                                    바쁘실텐데 빨리 갖다주셔서 감사합니다~\n",
              "4                       배달은 빠르지만 치킨은 식어있을땨가 많아요 미니스톱 치킨드세요\n",
              "                               ...                        \n",
              "51431                                    이게 뭐라고 며칠째 시켜대는 중\n",
              "51432    여기 만두는 냉동 만두에 북어국 당근이우동에두 있고 복어국 육수랑 우동 육수가 같은...\n",
              "51433                                         맛있어요 초밥 괜찮네용\n",
              "51434                               떡뽁이도 그냥그렇고 김밥은 딱딱하고 비추\n",
              "51435                                        수고하셨습니다~（＾◇＾）\n",
              "Name: customer_review, Length: 51436, dtype: object"
            ]
          },
          "metadata": {
            "tags": []
          },
          "execution_count": 23
        }
      ]
    },
    {
      "cell_type": "code",
      "metadata": {
        "id": "vqRMOWNTMk43",
        "colab_type": "code",
        "colab": {
          "base_uri": "https://localhost:8080/",
          "height": 221
        },
        "outputId": "040bdcf0-ca43-4366-abdd-c709efc43870"
      },
      "source": [
        "y"
      ],
      "execution_count": 24,
      "outputs": [
        {
          "output_type": "execute_result",
          "data": {
            "text/plain": [
              "0        0.0\n",
              "1        1.0\n",
              "2        0.0\n",
              "3        1.0\n",
              "4        0.0\n",
              "        ... \n",
              "51431    1.0\n",
              "51432    0.0\n",
              "51433    1.0\n",
              "51434    0.0\n",
              "51435    1.0\n",
              "Name: taste, Length: 51436, dtype: float64"
            ]
          },
          "metadata": {
            "tags": []
          },
          "execution_count": 24
        }
      ]
    },
    {
      "cell_type": "markdown",
      "metadata": {
        "id": "rPWuonj_Mk46",
        "colab_type": "text"
      },
      "source": [
        "# 시작"
      ]
    },
    {
      "cell_type": "code",
      "metadata": {
        "id": "jt0R5PfMMk47",
        "colab_type": "code",
        "colab": {}
      },
      "source": [
        "#KoNLPy패키지에는 Hannanum, Kkma, Komoran, Mecab, Okt(Twitter)등의 클래스들이 있습니다\n",
        "# https://mr-doosun.tistory.com/22\n",
        "# Okt (Twitter) Class\n",
        "# 해당 분석기는 오픈 소스 한국어 분석기이고, 과거 트위터 형태소 분석기였습니다.\n",
        "\n",
        "# KoNLPy 문서에 따른 클래스간의 성능 비교\n",
        "# https://konlpy.org/ko/v0.4.3/morph/\n",
        "\n",
        "# morphs  텍스트에서 형태소를 반환한다 / 형태소 : 일정한 의미가 있는 가장 작은 말의 단위\n",
        "# nouns   텍스트에서 명사를 반환한다\n",
        "# phrases 텍스트에서 어절을 뽑아낸다\n",
        "# pos     텍스트에서 품사 정보를 부착하여 반환한다"
      ],
      "execution_count": 25,
      "outputs": []
    },
    {
      "cell_type": "code",
      "metadata": {
        "id": "4x72VuBpNytJ",
        "colab_type": "code",
        "colab": {
          "base_uri": "https://localhost:8080/",
          "height": 578
        },
        "outputId": "bc52df35-5c33-4bf0-ce91-be9e182958c5"
      },
      "source": [
        "pip install konlpy"
      ],
      "execution_count": 26,
      "outputs": [
        {
          "output_type": "stream",
          "text": [
            "Collecting konlpy\n",
            "\u001b[?25l  Downloading https://files.pythonhosted.org/packages/85/0e/f385566fec837c0b83f216b2da65db9997b35dd675e107752005b7d392b1/konlpy-0.5.2-py2.py3-none-any.whl (19.4MB)\n",
            "\u001b[K     |████████████████████████████████| 19.4MB 1.2MB/s \n",
            "\u001b[?25hRequirement already satisfied: numpy>=1.6 in /usr/local/lib/python3.6/dist-packages (from konlpy) (1.18.5)\n",
            "Collecting beautifulsoup4==4.6.0\n",
            "\u001b[?25l  Downloading https://files.pythonhosted.org/packages/9e/d4/10f46e5cfac773e22707237bfcd51bbffeaf0a576b0a847ec7ab15bd7ace/beautifulsoup4-4.6.0-py3-none-any.whl (86kB)\n",
            "\u001b[K     |████████████████████████████████| 92kB 9.0MB/s \n",
            "\u001b[?25hCollecting tweepy>=3.7.0\n",
            "  Downloading https://files.pythonhosted.org/packages/bb/7c/99d51f80f3b77b107ebae2634108717362c059a41384a1810d13e2429a81/tweepy-3.9.0-py2.py3-none-any.whl\n",
            "Collecting JPype1>=0.7.0\n",
            "\u001b[?25l  Downloading https://files.pythonhosted.org/packages/8b/f7/a368401e630f0e390dd0e62c39fb928e5b23741b53c2360ee7d376660927/JPype1-1.0.2-cp36-cp36m-manylinux2010_x86_64.whl (3.8MB)\n",
            "\u001b[K     |████████████████████████████████| 3.8MB 25.4MB/s \n",
            "\u001b[?25hCollecting colorama\n",
            "  Downloading https://files.pythonhosted.org/packages/c9/dc/45cdef1b4d119eb96316b3117e6d5708a08029992b2fee2c143c7a0a5cc5/colorama-0.4.3-py2.py3-none-any.whl\n",
            "Requirement already satisfied: lxml>=4.1.0 in /usr/local/lib/python3.6/dist-packages (from konlpy) (4.2.6)\n",
            "Requirement already satisfied: requests[socks]>=2.11.1 in /usr/local/lib/python3.6/dist-packages (from tweepy>=3.7.0->konlpy) (2.23.0)\n",
            "Requirement already satisfied: requests-oauthlib>=0.7.0 in /usr/local/lib/python3.6/dist-packages (from tweepy>=3.7.0->konlpy) (1.3.0)\n",
            "Requirement already satisfied: six>=1.10.0 in /usr/local/lib/python3.6/dist-packages (from tweepy>=3.7.0->konlpy) (1.15.0)\n",
            "Requirement already satisfied: typing-extensions; python_version < \"3.8\" in /usr/local/lib/python3.6/dist-packages (from JPype1>=0.7.0->konlpy) (3.7.4.3)\n",
            "Requirement already satisfied: idna<3,>=2.5 in /usr/local/lib/python3.6/dist-packages (from requests[socks]>=2.11.1->tweepy>=3.7.0->konlpy) (2.10)\n",
            "Requirement already satisfied: urllib3!=1.25.0,!=1.25.1,<1.26,>=1.21.1 in /usr/local/lib/python3.6/dist-packages (from requests[socks]>=2.11.1->tweepy>=3.7.0->konlpy) (1.24.3)\n",
            "Requirement already satisfied: chardet<4,>=3.0.2 in /usr/local/lib/python3.6/dist-packages (from requests[socks]>=2.11.1->tweepy>=3.7.0->konlpy) (3.0.4)\n",
            "Requirement already satisfied: certifi>=2017.4.17 in /usr/local/lib/python3.6/dist-packages (from requests[socks]>=2.11.1->tweepy>=3.7.0->konlpy) (2020.6.20)\n",
            "Requirement already satisfied: PySocks!=1.5.7,>=1.5.6; extra == \"socks\" in /usr/local/lib/python3.6/dist-packages (from requests[socks]>=2.11.1->tweepy>=3.7.0->konlpy) (1.7.1)\n",
            "Requirement already satisfied: oauthlib>=3.0.0 in /usr/local/lib/python3.6/dist-packages (from requests-oauthlib>=0.7.0->tweepy>=3.7.0->konlpy) (3.1.0)\n",
            "Installing collected packages: beautifulsoup4, tweepy, JPype1, colorama, konlpy\n",
            "  Found existing installation: beautifulsoup4 4.6.3\n",
            "    Uninstalling beautifulsoup4-4.6.3:\n",
            "      Successfully uninstalled beautifulsoup4-4.6.3\n",
            "  Found existing installation: tweepy 3.6.0\n",
            "    Uninstalling tweepy-3.6.0:\n",
            "      Successfully uninstalled tweepy-3.6.0\n",
            "Successfully installed JPype1-1.0.2 beautifulsoup4-4.6.0 colorama-0.4.3 konlpy-0.5.2 tweepy-3.9.0\n"
          ],
          "name": "stdout"
        }
      ]
    },
    {
      "cell_type": "code",
      "metadata": {
        "id": "hv5oGlq-Mk4_",
        "colab_type": "code",
        "colab": {}
      },
      "source": [
        "# okt(Open Korean Text) \n",
        "from konlpy.tag import Okt\n",
        "okt = Okt()"
      ],
      "execution_count": 27,
      "outputs": []
    },
    {
      "cell_type": "code",
      "metadata": {
        "id": "-dq70yTDMk5C",
        "colab_type": "code",
        "colab": {
          "base_uri": "https://localhost:8080/",
          "height": 391
        },
        "outputId": "a8762162-4d82-4bd6-a449-31d2ededa784"
      },
      "source": [
        "# okt test\n",
        "okt.morphs('KoNLPy패키지에는 Hannanum, Kkma, Komoran, Mecab, Okt(Twitter)등의 클래스들이 있습니다.')"
      ],
      "execution_count": 28,
      "outputs": [
        {
          "output_type": "execute_result",
          "data": {
            "text/plain": [
              "['KoNLPy',\n",
              " '패키지',\n",
              " '에는',\n",
              " 'Hannanum',\n",
              " ',',\n",
              " 'Kkma',\n",
              " ',',\n",
              " 'Komoran',\n",
              " ',',\n",
              " 'Mecab',\n",
              " ',',\n",
              " 'Okt',\n",
              " '(',\n",
              " 'Twitter',\n",
              " ')',\n",
              " '등',\n",
              " '의',\n",
              " '클래스',\n",
              " '들',\n",
              " '이',\n",
              " '있습니다',\n",
              " '.']"
            ]
          },
          "metadata": {
            "tags": []
          },
          "execution_count": 28
        }
      ]
    },
    {
      "cell_type": "code",
      "metadata": {
        "id": "hdLcdFcAMk5G",
        "colab_type": "code",
        "colab": {}
      },
      "source": [
        "from sklearn.model_selection import train_test_split\n",
        "\n",
        "X_train, X_test, y_train, y_test = train_test_split(X, y, test_size=0.3, random_state = 84)"
      ],
      "execution_count": 29,
      "outputs": []
    },
    {
      "cell_type": "code",
      "metadata": {
        "id": "3uYBdZS2Mk5I",
        "colab_type": "code",
        "colab": {
          "base_uri": "https://localhost:8080/",
          "height": 34
        },
        "outputId": "301bf7d7-5895-42ed-fb27-c9c791cdd027"
      },
      "source": [
        "len(X_train),len(y_train), len(X_test), len(y_test)"
      ],
      "execution_count": 30,
      "outputs": [
        {
          "output_type": "execute_result",
          "data": {
            "text/plain": [
              "(36005, 36005, 15431, 15431)"
            ]
          },
          "metadata": {
            "tags": []
          },
          "execution_count": 30
        }
      ]
    },
    {
      "cell_type": "code",
      "metadata": {
        "id": "6gbFa04aMk5K",
        "colab_type": "code",
        "colab": {
          "base_uri": "https://localhost:8080/",
          "height": 221
        },
        "outputId": "749e162c-f2c2-4e5f-dcd0-f9fc70a93005"
      },
      "source": [
        "y_test"
      ],
      "execution_count": 31,
      "outputs": [
        {
          "output_type": "execute_result",
          "data": {
            "text/plain": [
              "41173    0.0\n",
              "45038    0.0\n",
              "15472    0.0\n",
              "19459    1.0\n",
              "174      0.0\n",
              "        ... \n",
              "49655    0.0\n",
              "20944    1.0\n",
              "8164     1.0\n",
              "30348    1.0\n",
              "26462    1.0\n",
              "Name: taste, Length: 15431, dtype: float64"
            ]
          },
          "metadata": {
            "tags": []
          },
          "execution_count": 31
        }
      ]
    },
    {
      "cell_type": "markdown",
      "metadata": {
        "id": "f_FWtS-lMk5M",
        "colab_type": "text"
      },
      "source": [
        "# TF-IDF (+파라미터)"
      ]
    },
    {
      "cell_type": "code",
      "metadata": {
        "id": "5hCNLVPIMk5N",
        "colab_type": "code",
        "colab": {
          "base_uri": "https://localhost:8080/",
          "height": 85
        },
        "outputId": "2a8aa107-1d9c-46c9-bbe3-86536ed25ab3"
      },
      "source": [
        "# min-df DF(document-frequency)의 최소 빈도값 <-> max-df\n",
        "# n-gram 것은 단어의 묶음\n",
        "# analyzer = 'word'라고 설정시, 학습의 단위를 단어로 (ex - home, go, my ...)\n",
        "# analyzer = 'char'라고 설정시, 학습의 단위를 글자로 (ex - a, b, c, d ...)\n",
        "# ngram_range = (1, 2)라고 한다면, 단어의 묶음을 1개부터 2개까지 설정\n",
        "# go home', 'very good'과 같은 2개 짜리 묶음도 인덱스를 받게 되는 것\n",
        "# 단어가 묶여야 비로소 의미를 가지는 것들을 위해\n",
        "# max_feature는 tf-idf vector의 최대 feature를 설정 /  사전에 EDA를 통해서 데이터의 length를 확인\n",
        "\n",
        "\n",
        "from sklearn.feature_extraction.text import TfidfVectorizer\n",
        "tfv = TfidfVectorizer(tokenizer=okt.morphs, ngram_range=(1,3), min_df=3, max_df=0.9)\n",
        "tfv.fit(X_train)\n",
        "tfv_X_train = tfv.transform(X_train)\n",
        "tfv_X_train"
      ],
      "execution_count": 33,
      "outputs": [
        {
          "output_type": "stream",
          "text": [
            "/usr/local/lib/python3.6/dist-packages/sklearn/feature_extraction/text.py:507: UserWarning: The parameter 'token_pattern' will not be used since 'tokenizer' is not None'\n",
            "  warnings.warn(\"The parameter 'token_pattern' will not be used\"\n"
          ],
          "name": "stderr"
        },
        {
          "output_type": "execute_result",
          "data": {
            "text/plain": [
              "<36005x63946 sparse matrix of type '<class 'numpy.float64'>'\n",
              "\twith 1082626 stored elements in Compressed Sparse Row format>"
            ]
          },
          "metadata": {
            "tags": []
          },
          "execution_count": 33
        }
      ]
    },
    {
      "cell_type": "code",
      "metadata": {
        "id": "z0vcSl4MMk5P",
        "colab_type": "code",
        "colab": {}
      },
      "source": [
        ""
      ],
      "execution_count": 33,
      "outputs": []
    },
    {
      "cell_type": "code",
      "metadata": {
        "id": "s3MmuIW9Mk5R",
        "colab_type": "code",
        "colab": {
          "base_uri": "https://localhost:8080/",
          "height": 680
        },
        "outputId": "fdda2382-1d41-4013-b590-00ad83b5b25e"
      },
      "source": [
        "from sklearn.linear_model import LogisticRegression\n",
        "from sklearn.model_selection import GridSearchCV\n",
        "\n",
        "clf = LogisticRegression(random_state=0)\n",
        "params = {'C': [1,3,5,7,9]}\n",
        "grid_cv = GridSearchCV(clf, param_grid = params, cv=4, scoring='accuracy', verbose=1)\n",
        "grid_cv.fit(tfv_X_train, y_train)"
      ],
      "execution_count": 38,
      "outputs": [
        {
          "output_type": "stream",
          "text": [
            "Fitting 4 folds for each of 5 candidates, totalling 20 fits\n"
          ],
          "name": "stdout"
        },
        {
          "output_type": "stream",
          "text": [
            "[Parallel(n_jobs=1)]: Using backend SequentialBackend with 1 concurrent workers.\n",
            "/usr/local/lib/python3.6/dist-packages/sklearn/linear_model/_logistic.py:940: ConvergenceWarning: lbfgs failed to converge (status=1):\n",
            "STOP: TOTAL NO. of ITERATIONS REACHED LIMIT.\n",
            "\n",
            "Increase the number of iterations (max_iter) or scale the data as shown in:\n",
            "    https://scikit-learn.org/stable/modules/preprocessing.html\n",
            "Please also refer to the documentation for alternative solver options:\n",
            "    https://scikit-learn.org/stable/modules/linear_model.html#logistic-regression\n",
            "  extra_warning_msg=_LOGISTIC_SOLVER_CONVERGENCE_MSG)\n",
            "/usr/local/lib/python3.6/dist-packages/sklearn/linear_model/_logistic.py:940: ConvergenceWarning: lbfgs failed to converge (status=1):\n",
            "STOP: TOTAL NO. of ITERATIONS REACHED LIMIT.\n",
            "\n",
            "Increase the number of iterations (max_iter) or scale the data as shown in:\n",
            "    https://scikit-learn.org/stable/modules/preprocessing.html\n",
            "Please also refer to the documentation for alternative solver options:\n",
            "    https://scikit-learn.org/stable/modules/linear_model.html#logistic-regression\n",
            "  extra_warning_msg=_LOGISTIC_SOLVER_CONVERGENCE_MSG)\n",
            "/usr/local/lib/python3.6/dist-packages/sklearn/linear_model/_logistic.py:940: ConvergenceWarning: lbfgs failed to converge (status=1):\n",
            "STOP: TOTAL NO. of ITERATIONS REACHED LIMIT.\n",
            "\n",
            "Increase the number of iterations (max_iter) or scale the data as shown in:\n",
            "    https://scikit-learn.org/stable/modules/preprocessing.html\n",
            "Please also refer to the documentation for alternative solver options:\n",
            "    https://scikit-learn.org/stable/modules/linear_model.html#logistic-regression\n",
            "  extra_warning_msg=_LOGISTIC_SOLVER_CONVERGENCE_MSG)\n",
            "[Parallel(n_jobs=1)]: Done  20 out of  20 | elapsed:   34.4s finished\n"
          ],
          "name": "stderr"
        },
        {
          "output_type": "execute_result",
          "data": {
            "text/plain": [
              "GridSearchCV(cv=4, error_score=nan,\n",
              "             estimator=LogisticRegression(C=1.0, class_weight=None, dual=False,\n",
              "                                          fit_intercept=True,\n",
              "                                          intercept_scaling=1, l1_ratio=None,\n",
              "                                          max_iter=100, multi_class='auto',\n",
              "                                          n_jobs=None, penalty='l2',\n",
              "                                          random_state=0, solver='lbfgs',\n",
              "                                          tol=0.0001, verbose=0,\n",
              "                                          warm_start=False),\n",
              "             iid='deprecated', n_jobs=None, param_grid={'C': [1, 3, 5, 7, 9]},\n",
              "             pre_dispatch='2*n_jobs', refit=True, return_train_score=False,\n",
              "             scoring='accuracy', verbose=1)"
            ]
          },
          "metadata": {
            "tags": []
          },
          "execution_count": 38
        }
      ]
    },
    {
      "cell_type": "code",
      "metadata": {
        "scrolled": true,
        "id": "PqLR5NXQMk5T",
        "colab_type": "code",
        "colab": {
          "base_uri": "https://localhost:8080/",
          "height": 34
        },
        "outputId": "13056f32-8806-44d3-9c68-de02e2bd287e"
      },
      "source": [
        "grid_cv.best_params_"
      ],
      "execution_count": 35,
      "outputs": [
        {
          "output_type": "execute_result",
          "data": {
            "text/plain": [
              "{'C': 5}"
            ]
          },
          "metadata": {
            "tags": []
          },
          "execution_count": 35
        }
      ]
    },
    {
      "cell_type": "code",
      "metadata": {
        "id": "KqqpiksbMk5V",
        "colab_type": "code",
        "colab": {
          "base_uri": "https://localhost:8080/",
          "height": 34
        },
        "outputId": "d5ff2a6c-fe91-496d-8250-b66432b1122f"
      },
      "source": [
        "grid_cv.best_score_"
      ],
      "execution_count": 36,
      "outputs": [
        {
          "output_type": "execute_result",
          "data": {
            "text/plain": [
              "0.9142341123518306"
            ]
          },
          "metadata": {
            "tags": []
          },
          "execution_count": 36
        }
      ]
    },
    {
      "cell_type": "code",
      "metadata": {
        "id": "ShwCXmi-Mk5W",
        "colab_type": "code",
        "colab": {
          "base_uri": "https://localhost:8080/",
          "height": 34
        },
        "outputId": "bd1d5871-a242-4238-c2d8-735934bed586"
      },
      "source": [
        "tfv_X_test=tfv.transform(X_test)\n",
        "grid_cv.best_estimator_.score(tfv_X_test,y_test)"
      ],
      "execution_count": 37,
      "outputs": [
        {
          "output_type": "execute_result",
          "data": {
            "text/plain": [
              "0.9196422785302314"
            ]
          },
          "metadata": {
            "tags": []
          },
          "execution_count": 37
        }
      ]
    },
    {
      "cell_type": "markdown",
      "metadata": {
        "id": "3kNMLz-1Mk5Y",
        "colab_type": "text"
      },
      "source": [
        "# 테스트"
      ]
    },
    {
      "cell_type": "code",
      "metadata": {
        "id": "N6X7KtoIMk5Z",
        "colab_type": "code",
        "colab": {}
      },
      "source": [
        "TestSet=pd.read_csv('/content/drive/My Drive/Colab Notebooks/3rd Project/3rd_Project_Data/test_taste_df.csv',encoding='utf-16')"
      ],
      "execution_count": 39,
      "outputs": []
    },
    {
      "cell_type": "code",
      "metadata": {
        "id": "2_i4IAOlwuP8",
        "colab_type": "code",
        "colab": {
          "base_uri": "https://localhost:8080/",
          "height": 255
        },
        "outputId": "4914485d-1809-4706-e5a4-20a90b46cd15"
      },
      "source": [
        "neg_test = TestSet[TestSet['taste']==0]\n",
        "print(\"부정: \", len(neg_test))\n",
        "pos_test = TestSet[TestSet['taste']==1]\n",
        "pos_test = pos_test.sample(n=500).reset_index(drop=True)\n",
        "print(\"긍정: \", len(pos_test))\n",
        "TestSet = pd.concat([neg_test, pos_test])\n",
        "print(\"TestSet: \", len(TestSet))\n"
      ],
      "execution_count": 66,
      "outputs": [
        {
          "output_type": "stream",
          "text": [
            "부정:  405\n",
            "긍정:  500\n",
            "TestSet:  905\n"
          ],
          "name": "stdout"
        },
        {
          "output_type": "execute_result",
          "data": {
            "text/html": [
              "<div>\n",
              "<style scoped>\n",
              "    .dataframe tbody tr th:only-of-type {\n",
              "        vertical-align: middle;\n",
              "    }\n",
              "\n",
              "    .dataframe tbody tr th {\n",
              "        vertical-align: top;\n",
              "    }\n",
              "\n",
              "    .dataframe thead th {\n",
              "        text-align: right;\n",
              "    }\n",
              "</style>\n",
              "<table border=\"1\" class=\"dataframe\">\n",
              "  <thead>\n",
              "    <tr style=\"text-align: right;\">\n",
              "      <th></th>\n",
              "      <th>Unnamed: 0</th>\n",
              "      <th>taste</th>\n",
              "      <th>customer_review</th>\n",
              "    </tr>\n",
              "  </thead>\n",
              "  <tbody>\n",
              "    <tr>\n",
              "      <th>0</th>\n",
              "      <td>42</td>\n",
              "      <td>0.0</td>\n",
              "      <td>아구찜의 오징어가 간이 하나도 안됐고 주먹밥은 저번에 시켰을 때보다 양이 훨 적어졌...</td>\n",
              "    </tr>\n",
              "    <tr>\n",
              "      <th>1</th>\n",
              "      <td>74</td>\n",
              "      <td>0.0</td>\n",
              "      <td>90분이 넘었는데 배달이안와요 전화는 끊어버리고 어쩌라는겁니까~~~~~</td>\n",
              "    </tr>\n",
              "    <tr>\n",
              "      <th>2</th>\n",
              "      <td>79</td>\n",
              "      <td>0.0</td>\n",
              "      <td>이거뭡니까 전화해도 계속받지않고 추가한 반찬 오지않고 일부러 전화안받는겁니까 이런식...</td>\n",
              "    </tr>\n",
              "    <tr>\n",
              "      <th>3</th>\n",
              "      <td>108</td>\n",
              "      <td>0.0</td>\n",
              "      <td>맛은 괜찮은데 해산물이 싱싱하지 않아요 특히 게가 다 상했어요 맛이 이상해요ㅡㅡ</td>\n",
              "    </tr>\n",
              "    <tr>\n",
              "      <th>4</th>\n",
              "      <td>135</td>\n",
              "      <td>0.0</td>\n",
              "      <td>예상 배달 시간보다 늦어서 전화했는데 전화도 안받고 냉동이라 꽃게가 완전 죽이예요 ...</td>\n",
              "    </tr>\n",
              "  </tbody>\n",
              "</table>\n",
              "</div>"
            ],
            "text/plain": [
              "   Unnamed: 0  taste                                    customer_review\n",
              "0          42    0.0  아구찜의 오징어가 간이 하나도 안됐고 주먹밥은 저번에 시켰을 때보다 양이 훨 적어졌...\n",
              "1          74    0.0            90분이 넘었는데 배달이안와요 전화는 끊어버리고 어쩌라는겁니까~~~~~\n",
              "2          79    0.0  이거뭡니까 전화해도 계속받지않고 추가한 반찬 오지않고 일부러 전화안받는겁니까 이런식...\n",
              "3         108    0.0       맛은 괜찮은데 해산물이 싱싱하지 않아요 특히 게가 다 상했어요 맛이 이상해요ㅡㅡ\n",
              "4         135    0.0  예상 배달 시간보다 늦어서 전화했는데 전화도 안받고 냉동이라 꽃게가 완전 죽이예요 ..."
            ]
          },
          "metadata": {
            "tags": []
          },
          "execution_count": 66
        }
      ]
    },
    {
      "cell_type": "code",
      "metadata": {
        "id": "cQ1DRMrJx2Hh",
        "colab_type": "code",
        "colab": {
          "base_uri": "https://localhost:8080/",
          "height": 419
        },
        "outputId": "6430ed0f-06a6-461e-a23c-defb3a22e77d"
      },
      "source": [
        "TestSet = TestSet.sample(frac=1).reset_index(drop=True)\n",
        "TestSet"
      ],
      "execution_count": 68,
      "outputs": [
        {
          "output_type": "execute_result",
          "data": {
            "text/html": [
              "<div>\n",
              "<style scoped>\n",
              "    .dataframe tbody tr th:only-of-type {\n",
              "        vertical-align: middle;\n",
              "    }\n",
              "\n",
              "    .dataframe tbody tr th {\n",
              "        vertical-align: top;\n",
              "    }\n",
              "\n",
              "    .dataframe thead th {\n",
              "        text-align: right;\n",
              "    }\n",
              "</style>\n",
              "<table border=\"1\" class=\"dataframe\">\n",
              "  <thead>\n",
              "    <tr style=\"text-align: right;\">\n",
              "      <th></th>\n",
              "      <th>Unnamed: 0</th>\n",
              "      <th>taste</th>\n",
              "      <th>customer_review</th>\n",
              "    </tr>\n",
              "  </thead>\n",
              "  <tbody>\n",
              "    <tr>\n",
              "      <th>0</th>\n",
              "      <td>6701</td>\n",
              "      <td>1.0</td>\n",
              "      <td>잘먹엇어요 깔끔하게 와서 좋네요 ㅎㅎ 꽈리고추가 신의 한수였어요 취저네요~~</td>\n",
              "    </tr>\n",
              "    <tr>\n",
              "      <th>1</th>\n",
              "      <td>7734</td>\n",
              "      <td>0.0</td>\n",
              "      <td>솔직히 첨에는 배달도 빠르고 맘에 들었는데 오늘 딥빡친다 영수증에도 써있는 시간이 ...</td>\n",
              "    </tr>\n",
              "    <tr>\n",
              "      <th>2</th>\n",
              "      <td>5807</td>\n",
              "      <td>1.0</td>\n",
              "      <td>배달 50분 걸린다던데 20분 만에옴;;;;;;;;; 보쌈 양 대박 입니다 앞으로 ...</td>\n",
              "    </tr>\n",
              "    <tr>\n",
              "      <th>3</th>\n",
              "      <td>2067</td>\n",
              "      <td>1.0</td>\n",
              "      <td>맛은 괜찮은데 양이 너무.... 배달비도 붙는 거 감안하면 돈 조금 더 내고 일반 ...</td>\n",
              "    </tr>\n",
              "    <tr>\n",
              "      <th>4</th>\n",
              "      <td>2059</td>\n",
              "      <td>1.0</td>\n",
              "      <td>오늘 게가 좀 싱싱하지 않아요 슬퍼요</td>\n",
              "    </tr>\n",
              "    <tr>\n",
              "      <th>...</th>\n",
              "      <td>...</td>\n",
              "      <td>...</td>\n",
              "      <td>...</td>\n",
              "    </tr>\n",
              "    <tr>\n",
              "      <th>900</th>\n",
              "      <td>652</td>\n",
              "      <td>0.0</td>\n",
              "      <td>와우 사진을 못찍었는데 양은 진짜 많았어요 ㅎ 해물탕을 시켯는데 알이랑 곤이 추가추...</td>\n",
              "    </tr>\n",
              "    <tr>\n",
              "      <th>901</th>\n",
              "      <td>1725</td>\n",
              "      <td>1.0</td>\n",
              "      <td>괜찮으요ㅛㅛㅛㅛㅛㅛㅛ</td>\n",
              "    </tr>\n",
              "    <tr>\n",
              "      <th>902</th>\n",
              "      <td>4293</td>\n",
              "      <td>1.0</td>\n",
              "      <td>배달도 빠르고 항상 맛있게 잘 먹고 있어요~!</td>\n",
              "    </tr>\n",
              "    <tr>\n",
              "      <th>903</th>\n",
              "      <td>7856</td>\n",
              "      <td>0.0</td>\n",
              "      <td>다른곳에서 먹어보고 한번 시켜본건데..조리 할 수 없는곳인데 너무 늦게 배달와서 다...</td>\n",
              "    </tr>\n",
              "    <tr>\n",
              "      <th>904</th>\n",
              "      <td>284</td>\n",
              "      <td>0.0</td>\n",
              "      <td>주문하고 바로 주문 요기요 주문 종료됐더라구요. 90분뒤도착이었는데 그때는 영업시간...</td>\n",
              "    </tr>\n",
              "  </tbody>\n",
              "</table>\n",
              "<p>905 rows × 3 columns</p>\n",
              "</div>"
            ],
            "text/plain": [
              "     Unnamed: 0  taste                                    customer_review\n",
              "0          6701    1.0         잘먹엇어요 깔끔하게 와서 좋네요 ㅎㅎ 꽈리고추가 신의 한수였어요 취저네요~~\n",
              "1          7734    0.0  솔직히 첨에는 배달도 빠르고 맘에 들었는데 오늘 딥빡친다 영수증에도 써있는 시간이 ...\n",
              "2          5807    1.0  배달 50분 걸린다던데 20분 만에옴;;;;;;;;; 보쌈 양 대박 입니다 앞으로 ...\n",
              "3          2067    1.0  맛은 괜찮은데 양이 너무.... 배달비도 붙는 거 감안하면 돈 조금 더 내고 일반 ...\n",
              "4          2059    1.0                               오늘 게가 좀 싱싱하지 않아요 슬퍼요\n",
              "..          ...    ...                                                ...\n",
              "900         652    0.0  와우 사진을 못찍었는데 양은 진짜 많았어요 ㅎ 해물탕을 시켯는데 알이랑 곤이 추가추...\n",
              "901        1725    1.0                                        괜찮으요ㅛㅛㅛㅛㅛㅛㅛ\n",
              "902        4293    1.0                          배달도 빠르고 항상 맛있게 잘 먹고 있어요~!\n",
              "903        7856    0.0  다른곳에서 먹어보고 한번 시켜본건데..조리 할 수 없는곳인데 너무 늦게 배달와서 다...\n",
              "904         284    0.0  주문하고 바로 주문 요기요 주문 종료됐더라구요. 90분뒤도착이었는데 그때는 영업시간...\n",
              "\n",
              "[905 rows x 3 columns]"
            ]
          },
          "metadata": {
            "tags": []
          },
          "execution_count": 68
        }
      ]
    },
    {
      "cell_type": "markdown",
      "metadata": {
        "id": "rEI8YELHhh9o",
        "colab_type": "text"
      },
      "source": [
        "# test01"
      ]
    },
    {
      "cell_type": "code",
      "metadata": {
        "id": "DmtBOVEVeZAy",
        "colab_type": "code",
        "colab": {
          "base_uri": "https://localhost:8080/",
          "height": 207
        },
        "outputId": "51ccaf0e-7a18-44d3-b6a6-659ce5153943"
      },
      "source": [
        "test01 = TestSet.iloc[0:10]['customer_review'].tolist()\n",
        "test01"
      ],
      "execution_count": 69,
      "outputs": [
        {
          "output_type": "execute_result",
          "data": {
            "text/plain": [
              "['잘먹엇어요 깔끔하게 와서 좋네요 ㅎㅎ 꽈리고추가 신의 한수였어요 취저네요~~',\n",
              " '솔직히 첨에는 배달도 빠르고 맘에 들었는데 오늘 딥빡친다 영수증에도 써있는 시간이 5시3분이지만 받은건 45분 하도 안와서 요기요 고객센터에 연락 할려했더니 드릅게 연락안대고 가게 번호는 가맹점주전용인듯 배달원은 미안하다 한마디 없이 걍 배차 타령 솔직히 죄송합니다 한마디가 어렵나?',\n",
              " '배달 50분 걸린다던데 20분 만에옴;;;;;;;;; 보쌈 양 대박 입니다 앞으로 원할머니는 신길점으로 이용할 예정이에요',\n",
              " '맛은 괜찮은데 양이 너무.... 배달비도 붙는 거 감안하면 돈 조금 더 내고 일반 해물찜 시키는 게 더 나을 것 같아요 배달도 늦고 맛은 있었어요',\n",
              " '오늘 게가 좀 싱싱하지 않아요 슬퍼요',\n",
              " '너무맛있었어용 큐알코드 설문 참여했는데 쿠폰은 언제받죠..?',\n",
              " '해물찜에는 먹을 해물이 별로 없어요..가격에 비하면 재료가 굉장히 부실하고요, 리뷰를 보니 불맛이 난다하는 말이 어떤건지 이해가 가요, 볶음짬뽕을 먹는기분이에요. 그리고, 볶음밥도 재료를 다 잘게 썰어서 볶은게 아니라 오징어도 통으로 들어가 있어서 그냥 봐도 뭔가 성의가 부족한게 느껴졌고요, 계란찜을 분명 시킨거 같은데 계란찜 물 조절을 못해서 거의 계란국탕이 왔더라구요. 대충 만들었던게 너무 느껴졌어요. 이것들을 거의 3만원돈 내고 먹었는데 너무 후회가 되요.',\n",
              " '배달도빨리오고 다 괜창ㅎ은데 고기가 넘 딱딱 ㅜㅜ 고기만 좀 부드러우면 좋겠어요 따듯한 배달 감사용!',\n",
              " '배달 시킨지 1시간30분이 지났는데 아직 오지도않네요',\n",
              " '맛은 있습니다. 하지만 배달이 세상에 1시간이 넘어서 온걸로만 해도 다시는 주문하고 싶진 않네요']"
            ]
          },
          "metadata": {
            "tags": []
          },
          "execution_count": 69
        }
      ]
    },
    {
      "cell_type": "code",
      "metadata": {
        "scrolled": true,
        "id": "_0hQ-4wpMk5g",
        "colab_type": "code",
        "colab": {
          "base_uri": "https://localhost:8080/",
          "height": 187
        },
        "outputId": "fae86c15-9a4e-460e-d51c-2877067fd582"
      },
      "source": [
        "original = TestSet.iloc[0:10]['taste'].tolist()\n",
        "original_TasteScore = [int(x) for x in original]\n",
        "print(\"true : \", original_TasteScore)\n",
        "\n",
        "my_review = tfv.transform(test01)\n",
        "pred = grid_cv.best_estimator_.predict(my_review)\n",
        "print(\"pred : \", pred)\n",
        "\n",
        "error = []\n",
        "for i in range(10):\n",
        "  x = original_TasteScore[i]-pred[i]\n",
        "  error.append(int(x))\n",
        "print(\"error: \", error)\n",
        "\n",
        "print(\"\\n\")\n",
        "print(\"error 값이 1이면 긍정 레이블링인데, 부정 예측값, error값이 -1이면 부정이였는데 긍정 예측값\\n\")\n",
        "\n",
        "num = 0\n",
        "\n",
        "for i in range(len(error)):\n",
        "  if error[i] != 0:\n",
        "    print(\"error \", error[i], \" \", TestSet.iloc[i]['customer_review'])"
      ],
      "execution_count": 93,
      "outputs": [
        {
          "output_type": "stream",
          "text": [
            "true :  [1, 0, 1, 1, 1, 1, 0, 1, 0, 1]\n",
            "pred :  [1. 0. 1. 0. 0. 1. 0. 1. 0. 0.]\n",
            "error:  [0, 0, 0, 1, 1, 0, 0, 0, 0, 1]\n",
            "\n",
            "\n",
            "error 값이 1이면 긍정 레이블링인데, 부정 예상, error값이 -1이면 부정이였는데 긍정 예측\n",
            "\n",
            "error  1   맛은 괜찮은데 양이 너무.... 배달비도 붙는 거 감안하면 돈 조금 더 내고 일반 해물찜 시키는 게 더 나을 것 같아요 배달도 늦고 맛은 있었어요\n",
            "error  1   오늘 게가 좀 싱싱하지 않아요 슬퍼요\n",
            "error  1   맛은 있습니다. 하지만 배달이 세상에 1시간이 넘어서 온걸로만 해도 다시는 주문하고 싶진 않네요\n"
          ],
          "name": "stdout"
        }
      ]
    },
    {
      "cell_type": "code",
      "metadata": {
        "id": "EtvLzOMG4SXq",
        "colab_type": "code",
        "colab": {}
      },
      "source": [
        "실제 리뷰 내용이 부정인데, 긍정 레이블이 붙어 있는 것도 \n",
        "학습 모델로 내용 부정 - 레이블 부정 으로 예측 "
      ],
      "execution_count": null,
      "outputs": []
    },
    {
      "cell_type": "markdown",
      "metadata": {
        "id": "1vfsNIuy4SNt",
        "colab_type": "text"
      },
      "source": [
        ""
      ]
    },
    {
      "cell_type": "markdown",
      "metadata": {
        "id": "hzt6_uflhoU3",
        "colab_type": "text"
      },
      "source": [
        "# test02"
      ]
    },
    {
      "cell_type": "code",
      "metadata": {
        "id": "GxofrW8LMk5j",
        "colab_type": "code",
        "colab": {
          "base_uri": "https://localhost:8080/",
          "height": 207
        },
        "outputId": "f68fda0b-9ee0-47ad-ebff-867b2e66f949"
      },
      "source": [
        "test02 = TestSet.iloc[500:510]['customer_review'].tolist()\n",
        "test02"
      ],
      "execution_count": 96,
      "outputs": [
        {
          "output_type": "execute_result",
          "data": {
            "text/plain": [
              "['맛있다는 리뷰...진짜 진심으로 작성하신거 맞나요? 맛이 하나도 안배여있어요.... 싱거웁다 못해 얌념을 발라놓은것같은 맛이에요... 심지어 추가주문한 볶음밥도 이렇게 맛이 하나도 안배고 맛이없을수가 있나요....? 부침개는 부추조금에 밀가루 부침이고.... 진짜 실망입니다.... 이렇게 맛없는 해물찜은 생전 처음먹어봤어요... 양심적으로 어떻게 이런음식을 팔수있나요? 만드신분 본인이 드셔는 봤나요?',\n",
              " '7시쯤에 주문해서 9시가넘어도 안오길래 전화해보니 출발햇다길래 기다렷는데 10시에 전화또해보니 이제와서 주문누락이라하네요 저번에 맛있어서 또시켜먹을라햇는데 이제 시킬일 없을거같네요~',\n",
              " '냉면에 면이 너무 붙어서 맛없었어요.. 명란은 너무 조금들어있구요 별로였습니다',\n",
              " '맛있어요 나쁘진 않아요',\n",
              " '6/20 18시 주문 21시가 되도록 전화 한번 없음 고객센터 통해서 취소 한두번 주문했던 곳도 아닌데 대실망 사과를 받아야겠음',\n",
              " '진짜맛있고 양도 많은데 아귀가 별로없어서 아쉬웠어요ㅠㅠ',\n",
              " '매일 미더덕찜만 시키다 아귀찜 첨 시켜보는데 이거도 맛있네요~ 찜 종류는 여기서 많이 시켜먹는듯',\n",
              " '맛있었어용~~~~추천합니다',\n",
              " '해물찜인데. 생각보다 해물종류가 다양하지 않고 짜네요',\n",
              " '처음으루 리뷰를 남겨요 저희 큰언니가 요리사라서 입맛이 매우 높아져서 만족을 못햇엇는데 그냥 요리잘하시네요 양도 엄청나고 사장님 복받으실꼬예요']"
            ]
          },
          "metadata": {
            "tags": []
          },
          "execution_count": 96
        }
      ]
    },
    {
      "cell_type": "code",
      "metadata": {
        "id": "miYf7iAsiU6J",
        "colab_type": "code",
        "colab": {
          "base_uri": "https://localhost:8080/",
          "height": 258
        },
        "outputId": "76d49f03-1376-4b15-c76b-de7853ff518e"
      },
      "source": [
        "original = TestSet.iloc[500:510]['taste'].tolist()\n",
        "original_TasteScore = [int(x) for x in original]\n",
        "print(\"true : \", original_TasteScore)\n",
        "\n",
        "my_review = tfv.transform(test01)\n",
        "pred = grid_cv.best_estimator_.predict(my_review)\n",
        "print(\"pred : \", pred)\n",
        "\n",
        "error = []\n",
        "for i in range(10):\n",
        "  x = original_TasteScore[i]-pred[i]\n",
        "  error.append(int(x))\n",
        "print(\"error: \", error)\n",
        "\n",
        "print(\"\\n\")\n",
        "print(\"error 값이  1이면 리뷰에 긍정 레이블링인데, 컴퓨터가 부정으로 예측\")\n",
        "print(\"error 값이 -1이면 리뷰에 부정 레이블링인데, 컴퓨터가 긍정으로 예측\")\n",
        "print(\"error 값은 실제 리뷰를 보고 판단해보기\\n\")\n",
        "\n",
        "num = 0\n",
        "\n",
        "for i in range(len(error)):\n",
        "  if error[i] != 0:\n",
        "    print(\"error \", error[i], \" \", TestSet.iloc[i]['customer_review'])"
      ],
      "execution_count": 103,
      "outputs": [
        {
          "output_type": "stream",
          "text": [
            "true :  [0, 0, 0, 0, 0, 1, 1, 1, 0, 1]\n",
            "pred :  [1. 0. 1. 0. 0. 1. 0. 1. 0. 0.]\n",
            "error:  [-1, 0, -1, 0, 0, 0, 1, 0, 0, 1]\n",
            "\n",
            "\n",
            "error 값이  1이면 리뷰에 긍정 레이블링인데, 컴퓨터가 부정으로 예측\n",
            "error 값이 -1이면 리뷰에 부정 레이블링인데, 컴퓨터가 긍정으로 예측\n",
            "error 값은 실제 리뷰를 보고 판단해보기\n",
            "\n",
            "error  -1   잘먹엇어요 깔끔하게 와서 좋네요 ㅎㅎ 꽈리고추가 신의 한수였어요 취저네요~~\n",
            "error  -1   배달 50분 걸린다던데 20분 만에옴;;;;;;;;; 보쌈 양 대박 입니다 앞으로 원할머니는 신길점으로 이용할 예정이에요\n",
            "error  1   해물찜에는 먹을 해물이 별로 없어요..가격에 비하면 재료가 굉장히 부실하고요, 리뷰를 보니 불맛이 난다하는 말이 어떤건지 이해가 가요, 볶음짬뽕을 먹는기분이에요. 그리고, 볶음밥도 재료를 다 잘게 썰어서 볶은게 아니라 오징어도 통으로 들어가 있어서 그냥 봐도 뭔가 성의가 부족한게 느껴졌고요, 계란찜을 분명 시킨거 같은데 계란찜 물 조절을 못해서 거의 계란국탕이 왔더라구요. 대충 만들었던게 너무 느껴졌어요. 이것들을 거의 3만원돈 내고 먹었는데 너무 후회가 되요.\n",
            "error  1   맛은 있습니다. 하지만 배달이 세상에 1시간이 넘어서 온걸로만 해도 다시는 주문하고 싶진 않네요\n"
          ],
          "name": "stdout"
        }
      ]
    },
    {
      "cell_type": "markdown",
      "metadata": {
        "id": "xzqiIkKNijHX",
        "colab_type": "text"
      },
      "source": [
        "# test03"
      ]
    },
    {
      "cell_type": "code",
      "metadata": {
        "id": "4OySxlGDietH",
        "colab_type": "code",
        "colab": {
          "base_uri": "https://localhost:8080/",
          "height": 207
        },
        "outputId": "c488a5d3-3213-4fb2-80a4-5227653d2b3d"
      },
      "source": [
        "test03 = TestSet.iloc[200:210]['customer_review'].tolist()\n",
        "test03"
      ],
      "execution_count": 51,
      "outputs": [
        {
          "output_type": "execute_result",
          "data": {
            "text/plain": [
              "['언제 와요?두시간 되가는데 욕나오게 @.',\n",
              " '지금 굉장히 화가났구요 11시 50분경에 배달 소요시간 50분이길래 시켰는데 1시15분인 현재까지안왔구요 나가봐야되서 취소를 할려고해도 전화번호가 적혀있길 합니까 환불안받을테니깐 배달안해주셔도되요 비와서 늦는건 이해합니다 배달예정시간을 바꾸시던지요 2번째시켰는데 2번다 늦을거면 배달예정시간을 90분으로 바꾸는게 맞지않나요?',\n",
              " '배달이 82분 넘어도오질 않음 도착 예상 45분인데 너무한거 아닌가요',\n",
              " '배달완료후 30분이후에왓고 전화번호도없네요 맛을떠나서 최악',\n",
              " '다 좋은데, 콜라 주문했는데 안왔어요..업체 번호도 없고 요기요도 안받고 주문할때 너무 복잡하게 하지않는게 좋을것같아요!',\n",
              " '요기요 고객센터가 문제인지 셰플리가 문제인지 모르겠네.',\n",
              " '예상도착시간은 7시23분인데 7시 50분에 도착 업체 전화번호도 없고 인터넷을 찾아도 없고 고기는 겉만 익히고 속은 익지도 않고 다신 안시킨다',\n",
              " '어제 팔다남은 쉬어빠진 딱딱한 밥을 주고 먹으라는 겁니까? 양에 비해 비싼거 감수하고 시키는데 기본이라도 제대로 합시다.',\n",
              " '셰플리 자주 배달시켜 먹는데 다시는 이용 안합니다',\n",
              " '배달이 안왔는데 왜 완료가 되죠..? 전화도 오지 않습니다..']"
            ]
          },
          "metadata": {
            "tags": []
          },
          "execution_count": 51
        }
      ]
    },
    {
      "cell_type": "code",
      "metadata": {
        "id": "CpUSJ4PKinlk",
        "colab_type": "code",
        "colab": {
          "base_uri": "https://localhost:8080/",
          "height": 309
        },
        "outputId": "ac665c4c-3705-4f87-d1a8-be6486a37740"
      },
      "source": [
        "original = TestSet.iloc[200:210]['taste'].tolist()\n",
        "original_TasteScore = [int(x) for x in original]\n",
        "print(\"true : \", original_TasteScore)\n",
        "\n",
        "my_review = tfv.transform(test01)\n",
        "pred = grid_cv.best_estimator_.predict(my_review)\n",
        "print(\"pred : \", pred)\n",
        "\n",
        "error = []\n",
        "for i in range(10):\n",
        "  x = original_TasteScore[i]-pred[i]\n",
        "  error.append(int(x))\n",
        "print(\"error: \", error)\n",
        "\n",
        "print(\"\\n\")\n",
        "print(\"error 값이  1이면 리뷰에 긍정 레이블링인데, 컴퓨터가 부정으로 예측\")\n",
        "print(\"error 값이 -1이면 리뷰에 부정 레이블링인데, 컴퓨터가 긍정으로 예측\")\n",
        "print(\"error 값은 실제 리뷰를 보고 판단해보기\\n\")\n",
        "\n",
        "num = 0\n",
        "\n",
        "for i in range(len(error)):\n",
        "  if error[i] != 0:\n",
        "    print(\"error \", error[i], \" \", TestSet.iloc[i]['customer_review'])"
      ],
      "execution_count": 104,
      "outputs": [
        {
          "output_type": "stream",
          "text": [
            "true :  [0, 1, 1, 1, 1, 1, 1, 1, 1, 1]\n",
            "pred :  [1. 0. 1. 0. 0. 1. 0. 1. 0. 0.]\n",
            "error:  [-1, 1, 0, 1, 1, 0, 1, 0, 1, 1]\n",
            "\n",
            "\n",
            "error 값이  1이면 리뷰에 긍정 레이블링인데, 컴퓨터가 부정으로 예측\n",
            "error 값이 -1이면 리뷰에 부정 레이블링인데, 컴퓨터가 긍정으로 예측\n",
            "error 값은 실제 리뷰를 보고 판단해보기\n",
            "\n",
            "error  -1   잘먹엇어요 깔끔하게 와서 좋네요 ㅎㅎ 꽈리고추가 신의 한수였어요 취저네요~~\n",
            "error  1   솔직히 첨에는 배달도 빠르고 맘에 들었는데 오늘 딥빡친다 영수증에도 써있는 시간이 5시3분이지만 받은건 45분 하도 안와서 요기요 고객센터에 연락 할려했더니 드릅게 연락안대고 가게 번호는 가맹점주전용인듯 배달원은 미안하다 한마디 없이 걍 배차 타령 솔직히 죄송합니다 한마디가 어렵나?\n",
            "error  1   맛은 괜찮은데 양이 너무.... 배달비도 붙는 거 감안하면 돈 조금 더 내고 일반 해물찜 시키는 게 더 나을 것 같아요 배달도 늦고 맛은 있었어요\n",
            "error  1   오늘 게가 좀 싱싱하지 않아요 슬퍼요\n",
            "error  1   해물찜에는 먹을 해물이 별로 없어요..가격에 비하면 재료가 굉장히 부실하고요, 리뷰를 보니 불맛이 난다하는 말이 어떤건지 이해가 가요, 볶음짬뽕을 먹는기분이에요. 그리고, 볶음밥도 재료를 다 잘게 썰어서 볶은게 아니라 오징어도 통으로 들어가 있어서 그냥 봐도 뭔가 성의가 부족한게 느껴졌고요, 계란찜을 분명 시킨거 같은데 계란찜 물 조절을 못해서 거의 계란국탕이 왔더라구요. 대충 만들었던게 너무 느껴졌어요. 이것들을 거의 3만원돈 내고 먹었는데 너무 후회가 되요.\n",
            "error  1   배달 시킨지 1시간30분이 지났는데 아직 오지도않네요\n",
            "error  1   맛은 있습니다. 하지만 배달이 세상에 1시간이 넘어서 온걸로만 해도 다시는 주문하고 싶진 않네요\n"
          ],
          "name": "stdout"
        }
      ]
    },
    {
      "cell_type": "code",
      "metadata": {
        "id": "PRwCMd7ciwCv",
        "colab_type": "code",
        "colab": {}
      },
      "source": [
        ""
      ],
      "execution_count": null,
      "outputs": []
    }
  ]
}